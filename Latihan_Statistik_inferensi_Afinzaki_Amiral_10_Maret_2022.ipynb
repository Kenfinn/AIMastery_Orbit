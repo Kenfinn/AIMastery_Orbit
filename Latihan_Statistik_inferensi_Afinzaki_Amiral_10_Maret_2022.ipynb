{
  "nbformat": 4,
  "nbformat_minor": 0,
  "metadata": {
    "colab": {
      "name": "Latihan - Statistik inferensi Afinzaki Amiral 10 Maret 2022.ipynb",
      "provenance": [],
      "collapsed_sections": [],
      "include_colab_link": true
    },
    "kernelspec": {
      "name": "python3",
      "display_name": "Python 3"
    },
    "language_info": {
      "name": "python"
    }
  },
  "cells": [
    {
      "cell_type": "markdown",
      "metadata": {
        "id": "view-in-github",
        "colab_type": "text"
      },
      "source": [
        "<a href=\"https://colab.research.google.com/github/Kenfinn/AIMastery_Orbit/blob/main/Latihan_Statistik_inferensi_Afinzaki_Amiral_10_Maret_2022.ipynb\" target=\"_parent\"><img src=\"https://colab.research.google.com/assets/colab-badge.svg\" alt=\"Open In Colab\"/></a>"
      ]
    },
    {
      "cell_type": "markdown",
      "source": [
        "# Latihan \n",
        "\n",
        "Misalkan kamu adalah data scientist di gojek. Kamu ingin mengetahui apakah kemacetan mempengaruhi tingkat kepuasan pelanngan.\n",
        "\n",
        "Kamu diminta unutk membandingkna nilai \"bintang\" dari customer setalah dia order\n",
        "\n",
        "macet = [2, 3, 5, 4, 4, 2, 2, 2]\n",
        "tidak macet = [ 4 , 3, 5, 4 , 4, 5,5]\n",
        "\n",
        "Tugas\n",
        "1. Buat hipotesa\n",
        "2. Lakukan uji asumis normaltias\n",
        "3. Jika datanya normal, lakukan uji paramterik\n",
        "4. jika datanya tidak nrmal lakukan uji non parametrik\n",
        "5. kesimpulan?"
      ],
      "metadata": {
        "id": "bYKpYVbBncWN"
      }
    },
    {
      "cell_type": "code",
      "source": [
        "# import library\n",
        "\n",
        "import matplotlib.pyplot as plt\n",
        "import pandas as pd\n",
        "import seaborn as sns\n",
        "import numpy as np\n",
        "from scipy import stats"
      ],
      "metadata": {
        "id": "VB2FgD0Qnbao"
      },
      "execution_count": 1,
      "outputs": []
    },
    {
      "cell_type": "markdown",
      "source": [
        "Diketahui nilai \n",
        "macet = [2, 3, 5, 4, 4, 2, 2, 2] tidak macet = [ 4 , 3, 5, 4 , 4, 5,5]\n",
        "karena data tidak sana saya melakukan penambahan pading pada array tidak macet dengan value 0 \n"
      ],
      "metadata": {
        "id": "Q86TP8XnfwI9"
      }
    },
    {
      "cell_type": "code",
      "source": [
        "macet = np.array([2, 3, 5, 4, 4, 2, 2, 2,])\n",
        "tidak_macet = np.array([ 4 , 3, 5, 4 , 4, 5,5,0])"
      ],
      "metadata": {
        "id": "f-kjHqbhngIp"
      },
      "execution_count": 2,
      "outputs": []
    },
    {
      "cell_type": "markdown",
      "source": [
        "Uji Normalitas\n",
        "\n",
        "Ho =  Data berdistribusi normal\n",
        "\n",
        "Ha = data tidak berdistribusi normal"
      ],
      "metadata": {
        "id": "3Ap60P-JgCXo"
      }
    },
    {
      "cell_type": "code",
      "source": [
        "# Dengan Histogram saat macet\n",
        "sns.distplot(macet)"
      ],
      "metadata": {
        "colab": {
          "base_uri": "https://localhost:8080/",
          "height": 339
        },
        "id": "o1-Ua5EJnnQQ",
        "outputId": "2b1a9196-5dd3-4b46-da3e-0a3dd24b9dcd"
      },
      "execution_count": 3,
      "outputs": [
        {
          "output_type": "stream",
          "name": "stderr",
          "text": [
            "/usr/local/lib/python3.7/dist-packages/seaborn/distributions.py:2619: FutureWarning: `distplot` is a deprecated function and will be removed in a future version. Please adapt your code to use either `displot` (a figure-level function with similar flexibility) or `histplot` (an axes-level function for histograms).\n",
            "  warnings.warn(msg, FutureWarning)\n"
          ]
        },
        {
          "output_type": "execute_result",
          "data": {
            "text/plain": [
              "<matplotlib.axes._subplots.AxesSubplot at 0x7f71341b8350>"
            ]
          },
          "metadata": {},
          "execution_count": 3
        },
        {
          "output_type": "display_data",
          "data": {
            "image/png": "[encoded data removed]",
            "text/plain": [
              "<Figure size 432x288 with 1 Axes>"
            ]
          },
          "metadata": {
            "needs_background": "light"
          }
        }
      ]
    },
    {
      "cell_type": "code",
      "source": [
        "# Dengan Histogram saat tidak macet\n",
        "sns.distplot(tidak_macet)"
      ],
      "metadata": {
        "colab": {
          "base_uri": "https://localhost:8080/",
          "height": 339
        },
        "id": "0GmOhOWWnr3o",
        "outputId": "afed5767-b0f4-4a4c-9e77-7f3b57218763"
      },
      "execution_count": 4,
      "outputs": [
        {
          "output_type": "stream",
          "name": "stderr",
          "text": [
            "/usr/local/lib/python3.7/dist-packages/seaborn/distributions.py:2619: FutureWarning: `distplot` is a deprecated function and will be removed in a future version. Please adapt your code to use either `displot` (a figure-level function with similar flexibility) or `histplot` (an axes-level function for histograms).\n",
            "  warnings.warn(msg, FutureWarning)\n"
          ]
        },
        {
          "output_type": "execute_result",
          "data": {
            "text/plain": [
              "<matplotlib.axes._subplots.AxesSubplot at 0x7f7131c15c50>"
            ]
          },
          "metadata": {},
          "execution_count": 4
        },
        {
          "output_type": "display_data",
          "data": {
            "image/png": "[encoded data removed]",
            "text/plain": [
              "<Figure size 432x288 with 1 Axes>"
            ]
          },
          "metadata": {
            "needs_background": "light"
          }
        }
      ]
    },
    {
      "cell_type": "markdown",
      "source": [
        "Berdasarkan histogram, data berbentuk seperti lonceng\n",
        "namun H1 menampilakn rata-rata pas ditengah. \n",
        "dan H2 melandai pada tengah \n",
        "\n",
        "Sehingga, bisa kita simpulkan data brerdistribusi normal"
      ],
      "metadata": {
        "id": "dunRxxWlgKQj"
      }
    },
    {
      "cell_type": "code",
      "source": [
        "z_score_macet = stats.zscore(macet)\n",
        "z_score_tidak_macet = stats.zscore(tidak_macet)"
      ],
      "metadata": {
        "id": "OiVt-e_toG4e"
      },
      "execution_count": 5,
      "outputs": []
    },
    {
      "cell_type": "code",
      "source": [
        "print(\"Stats of data macet \", stats.kstest(z_score_macet, \"norm\"))\n",
        "print(\"Stats of data tidak macet \", stats.kstest(z_score_tidak_macet, \"norm\"))"
      ],
      "metadata": {
        "colab": {
          "base_uri": "https://localhost:8080/"
        },
        "id": "t0h-8Moxnxzt",
        "outputId": "766212da-1274-4c47-ff7f-734e137e0d44"
      },
      "execution_count": 6,
      "outputs": [
        {
          "output_type": "stream",
          "name": "stdout",
          "text": [
            "Stats of data macet  KstestResult(statistic=0.3144533152386512, pvalue=0.3355485604492315)\n",
            "Stats of data tidak macet  KstestResult(statistic=0.31360993810304416, pvalue=0.3386849057769969)\n"
          ]
        }
      ]
    },
    {
      "cell_type": "markdown",
      "source": [
        "Jika p-value > 0.05, maka Ho Diterima, data berdistribusi normal\n",
        "\n",
        "dan dapat di tampilkan data berdistribusi hampir normal"
      ],
      "metadata": {
        "id": "Qz7kf9bRglhi"
      }
    },
    {
      "cell_type": "markdown",
      "source": [
        "Karena berdistribusi normal maka kita mdnggunakan test parametrik"
      ],
      "metadata": {
        "id": "vsITcSp4g5V0"
      }
    },
    {
      "cell_type": "markdown",
      "source": [
        "#Paired Sample - Test (Paramterik)\n",
        "\n",
        "Ho = Tidak ada perbedaan yang signifikan\n",
        "\n",
        "ha = Ada perbedaan"
      ],
      "metadata": {
        "id": "d1gj7gDIg4HZ"
      }
    },
    {
      "cell_type": "code",
      "source": [
        "len(macet)"
      ],
      "metadata": {
        "colab": {
          "base_uri": "https://localhost:8080/"
        },
        "id": "yM_KCkfhoelU",
        "outputId": "5bca1fc1-9b3f-4d07-c203-7542889f9372"
      },
      "execution_count": 7,
      "outputs": [
        {
          "output_type": "execute_result",
          "data": {
            "text/plain": [
              "8"
            ]
          },
          "metadata": {},
          "execution_count": 7
        }
      ]
    },
    {
      "cell_type": "code",
      "source": [
        "t_value = stats.ttest_rel(macet, tidak_macet)\n",
        "\n",
        "print('Hasil uji t : ', t_value)"
      ],
      "metadata": {
        "colab": {
          "base_uri": "https://localhost:8080/"
        },
        "id": "iG6GL5hrpm3B",
        "outputId": "31b97ee7-d42a-4434-bcd5-1501723f76a2"
      },
      "execution_count": 10,
      "outputs": [
        {
          "output_type": "stream",
          "name": "stdout",
          "text": [
            "Hasil uji t :  Ttest_relResult(statistic=-1.2104198771788934, pvalue=0.2653980394260696)\n"
          ]
        }
      ]
    },
    {
      "cell_type": "markdown",
      "source": [
        "karena p-value 2.65 *10  < 0.05, maka Ho ditolak\n",
        "\n",
        "Terdapat perbedaan yang signifikan antara kondisi macet  dan saat belajar tidak macet.\n"
      ],
      "metadata": {
        "id": "xcqriFU-hEW5"
      }
    }
  ]
}