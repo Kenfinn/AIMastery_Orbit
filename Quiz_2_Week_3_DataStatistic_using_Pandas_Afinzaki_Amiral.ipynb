{
  "nbformat": 4,
  "nbformat_minor": 0,
  "metadata": {
    "colab": {
      "name": "Quiz #2- Week #3 - DataStatistic using Pandas - Afinzaki Amiral.ipynb",
      "provenance": []
    },
    "kernelspec": {
      "name": "python3",
      "display_name": "Python 3"
    },
    "language_info": {
      "name": "python"
    }
  },
  "cells": [
    {
      "cell_type": "markdown",
      "source": [
        "Import Library"
      ],
      "metadata": {
        "id": "0km3qO81EpiX"
      }
    },
    {
      "cell_type": "code",
      "execution_count": 45,
      "metadata": {
        "id": "sTNxIzaxhSTm"
      },
      "outputs": [],
      "source": [
        "import pandas as pd\n",
        "import numpy as np\n",
        "import matplotlib.pyplot as plt"
      ]
    },
    {
      "cell_type": "markdown",
      "source": [
        "import csv file"
      ],
      "metadata": {
        "id": "43nINmGPEr5W"
      }
    },
    {
      "cell_type": "code",
      "source": [
        "Customer = pd.read_csv( 'Customer.csv')\n",
        "Prod = pd.read_csv( 'prod_cat_info.csv')\n",
        "Transactions = pd.read_csv( 'Transactions.csv')"
      ],
      "metadata": {
        "id": "3RYJ1vTNhb-i"
      },
      "execution_count": 37,
      "outputs": []
    },
    {
      "cell_type": "markdown",
      "source": [
        "menggabungkan ketiga tabel "
      ],
      "metadata": {
        "id": "1ykAaidBE27T"
      }
    },
    {
      "cell_type": "code",
      "source": [
        "transaction_customer = pd.merge(Transactions,Customer,left_on='cust_id',right_on='customer_Id')\n",
        "transaction_customer_prod = pd.merge(transaction_customer,Prod,left_on=['prod_subcat_code','prod_cat_code'] ,right_on=['prod_cat_code', 'prod_cat_code'])"
      ],
      "metadata": {
        "id": "rHwbJHc7iJLf"
      },
      "execution_count": 38,
      "outputs": []
    },
    {
      "cell_type": "markdown",
      "source": [
        "menampilkan hasil tabel"
      ],
      "metadata": {
        "id": "y1pIkx2eE7Ap"
      }
    },
    {
      "cell_type": "code",
      "source": [
        "transaction_customer_prod"
      ],
      "metadata": {
        "colab": {
          "base_uri": "https://localhost:8080/",
          "height": 834
        },
        "id": "DBSVjYGNlEuS",
        "outputId": "5d9d631c-8620-4fbe-c5ea-b988ab9ac6c6"
      },
      "execution_count": 39,
      "outputs": [
        {
          "output_type": "execute_result",
          "data": {
            "text/html": [
              "\n",
              "  <div id=\"df-6b01b660-0ad6-4a4c-ba04-a7aaa7ad9371\">\n",
              "    <div class=\"colab-df-container\">\n",
              "      <div>\n",
              "<style scoped>\n",
              "    .dataframe tbody tr th:only-of-type {\n",
              "        vertical-align: middle;\n",
              "    }\n",
              "\n",
              "    .dataframe tbody tr th {\n",
              "        vertical-align: top;\n",
              "    }\n",
              "\n",
              "    .dataframe thead th {\n",
              "        text-align: right;\n",
              "    }\n",
              "</style>\n",
              "<table border=\"1\" class=\"dataframe\">\n",
              "  <thead>\n",
              "    <tr style=\"text-align: right;\">\n",
              "      <th></th>\n",
              "      <th>transaction_id</th>\n",
              "      <th>cust_id</th>\n",
              "      <th>tran_date</th>\n",
              "      <th>prod_subcat_code</th>\n",
              "      <th>prod_cat_code</th>\n",
              "      <th>Qty</th>\n",
              "      <th>Rate</th>\n",
              "      <th>Tax</th>\n",
              "      <th>total_amt</th>\n",
              "      <th>Store_type</th>\n",
              "      <th>customer_Id</th>\n",
              "      <th>DOB</th>\n",
              "      <th>Gender</th>\n",
              "      <th>city_code</th>\n",
              "      <th>prod_cat</th>\n",
              "      <th>prod_sub_cat_code</th>\n",
              "      <th>prod_subcat</th>\n",
              "    </tr>\n",
              "  </thead>\n",
              "  <tbody>\n",
              "    <tr>\n",
              "      <th>0</th>\n",
              "      <td>80712190438</td>\n",
              "      <td>270351</td>\n",
              "      <td>28-02-2014</td>\n",
              "      <td>1</td>\n",
              "      <td>1</td>\n",
              "      <td>-5</td>\n",
              "      <td>-772</td>\n",
              "      <td>405.30</td>\n",
              "      <td>-4265.30</td>\n",
              "      <td>e-Shop</td>\n",
              "      <td>270351</td>\n",
              "      <td>26-09-1981</td>\n",
              "      <td>M</td>\n",
              "      <td>5.0</td>\n",
              "      <td>Clothing</td>\n",
              "      <td>4</td>\n",
              "      <td>Mens</td>\n",
              "    </tr>\n",
              "    <tr>\n",
              "      <th>1</th>\n",
              "      <td>80712190438</td>\n",
              "      <td>270351</td>\n",
              "      <td>28-02-2014</td>\n",
              "      <td>1</td>\n",
              "      <td>1</td>\n",
              "      <td>-5</td>\n",
              "      <td>-772</td>\n",
              "      <td>405.30</td>\n",
              "      <td>-4265.30</td>\n",
              "      <td>e-Shop</td>\n",
              "      <td>270351</td>\n",
              "      <td>26-09-1981</td>\n",
              "      <td>M</td>\n",
              "      <td>5.0</td>\n",
              "      <td>Clothing</td>\n",
              "      <td>1</td>\n",
              "      <td>Women</td>\n",
              "    </tr>\n",
              "    <tr>\n",
              "      <th>2</th>\n",
              "      <td>80712190438</td>\n",
              "      <td>270351</td>\n",
              "      <td>28-02-2014</td>\n",
              "      <td>1</td>\n",
              "      <td>1</td>\n",
              "      <td>-5</td>\n",
              "      <td>-772</td>\n",
              "      <td>405.30</td>\n",
              "      <td>-4265.30</td>\n",
              "      <td>e-Shop</td>\n",
              "      <td>270351</td>\n",
              "      <td>26-09-1981</td>\n",
              "      <td>M</td>\n",
              "      <td>5.0</td>\n",
              "      <td>Clothing</td>\n",
              "      <td>3</td>\n",
              "      <td>Kids</td>\n",
              "    </tr>\n",
              "    <tr>\n",
              "      <th>3</th>\n",
              "      <td>80712190438</td>\n",
              "      <td>270351</td>\n",
              "      <td>20-02-2014</td>\n",
              "      <td>1</td>\n",
              "      <td>1</td>\n",
              "      <td>5</td>\n",
              "      <td>772</td>\n",
              "      <td>405.30</td>\n",
              "      <td>4265.30</td>\n",
              "      <td>e-Shop</td>\n",
              "      <td>270351</td>\n",
              "      <td>26-09-1981</td>\n",
              "      <td>M</td>\n",
              "      <td>5.0</td>\n",
              "      <td>Clothing</td>\n",
              "      <td>4</td>\n",
              "      <td>Mens</td>\n",
              "    </tr>\n",
              "    <tr>\n",
              "      <th>4</th>\n",
              "      <td>80712190438</td>\n",
              "      <td>270351</td>\n",
              "      <td>20-02-2014</td>\n",
              "      <td>1</td>\n",
              "      <td>1</td>\n",
              "      <td>5</td>\n",
              "      <td>772</td>\n",
              "      <td>405.30</td>\n",
              "      <td>4265.30</td>\n",
              "      <td>e-Shop</td>\n",
              "      <td>270351</td>\n",
              "      <td>26-09-1981</td>\n",
              "      <td>M</td>\n",
              "      <td>5.0</td>\n",
              "      <td>Clothing</td>\n",
              "      <td>1</td>\n",
              "      <td>Women</td>\n",
              "    </tr>\n",
              "    <tr>\n",
              "      <th>...</th>\n",
              "      <td>...</td>\n",
              "      <td>...</td>\n",
              "      <td>...</td>\n",
              "      <td>...</td>\n",
              "      <td>...</td>\n",
              "      <td>...</td>\n",
              "      <td>...</td>\n",
              "      <td>...</td>\n",
              "      <td>...</td>\n",
              "      <td>...</td>\n",
              "      <td>...</td>\n",
              "      <td>...</td>\n",
              "      <td>...</td>\n",
              "      <td>...</td>\n",
              "      <td>...</td>\n",
              "      <td>...</td>\n",
              "      <td>...</td>\n",
              "    </tr>\n",
              "    <tr>\n",
              "      <th>5000</th>\n",
              "      <td>18727956164</td>\n",
              "      <td>267161</td>\n",
              "      <td>23-02-2011</td>\n",
              "      <td>4</td>\n",
              "      <td>4</td>\n",
              "      <td>5</td>\n",
              "      <td>668</td>\n",
              "      <td>350.70</td>\n",
              "      <td>3690.70</td>\n",
              "      <td>e-Shop</td>\n",
              "      <td>267161</td>\n",
              "      <td>08-05-1981</td>\n",
              "      <td>M</td>\n",
              "      <td>9.0</td>\n",
              "      <td>Bags</td>\n",
              "      <td>4</td>\n",
              "      <td>Women</td>\n",
              "    </tr>\n",
              "    <tr>\n",
              "      <th>5001</th>\n",
              "      <td>60416814232</td>\n",
              "      <td>273281</td>\n",
              "      <td>18-02-2011</td>\n",
              "      <td>4</td>\n",
              "      <td>4</td>\n",
              "      <td>4</td>\n",
              "      <td>202</td>\n",
              "      <td>84.84</td>\n",
              "      <td>892.84</td>\n",
              "      <td>Flagship store</td>\n",
              "      <td>273281</td>\n",
              "      <td>14-12-1988</td>\n",
              "      <td>F</td>\n",
              "      <td>9.0</td>\n",
              "      <td>Bags</td>\n",
              "      <td>1</td>\n",
              "      <td>Mens</td>\n",
              "    </tr>\n",
              "    <tr>\n",
              "      <th>5002</th>\n",
              "      <td>60416814232</td>\n",
              "      <td>273281</td>\n",
              "      <td>18-02-2011</td>\n",
              "      <td>4</td>\n",
              "      <td>4</td>\n",
              "      <td>4</td>\n",
              "      <td>202</td>\n",
              "      <td>84.84</td>\n",
              "      <td>892.84</td>\n",
              "      <td>Flagship store</td>\n",
              "      <td>273281</td>\n",
              "      <td>14-12-1988</td>\n",
              "      <td>F</td>\n",
              "      <td>9.0</td>\n",
              "      <td>Bags</td>\n",
              "      <td>4</td>\n",
              "      <td>Women</td>\n",
              "    </tr>\n",
              "    <tr>\n",
              "      <th>5003</th>\n",
              "      <td>83245680995</td>\n",
              "      <td>273723</td>\n",
              "      <td>26-01-2011</td>\n",
              "      <td>4</td>\n",
              "      <td>4</td>\n",
              "      <td>4</td>\n",
              "      <td>1477</td>\n",
              "      <td>620.34</td>\n",
              "      <td>6528.34</td>\n",
              "      <td>e-Shop</td>\n",
              "      <td>273723</td>\n",
              "      <td>21-01-1984</td>\n",
              "      <td>F</td>\n",
              "      <td>4.0</td>\n",
              "      <td>Bags</td>\n",
              "      <td>1</td>\n",
              "      <td>Mens</td>\n",
              "    </tr>\n",
              "    <tr>\n",
              "      <th>5004</th>\n",
              "      <td>83245680995</td>\n",
              "      <td>273723</td>\n",
              "      <td>26-01-2011</td>\n",
              "      <td>4</td>\n",
              "      <td>4</td>\n",
              "      <td>4</td>\n",
              "      <td>1477</td>\n",
              "      <td>620.34</td>\n",
              "      <td>6528.34</td>\n",
              "      <td>e-Shop</td>\n",
              "      <td>273723</td>\n",
              "      <td>21-01-1984</td>\n",
              "      <td>F</td>\n",
              "      <td>4.0</td>\n",
              "      <td>Bags</td>\n",
              "      <td>4</td>\n",
              "      <td>Women</td>\n",
              "    </tr>\n",
              "  </tbody>\n",
              "</table>\n",
              "<p>5005 rows × 17 columns</p>\n",
              "</div>\n",
              "      <button class=\"colab-df-convert\" onclick=\"convertToInteractive('df-6b01b660-0ad6-4a4c-ba04-a7aaa7ad9371')\"\n",
              "              title=\"Convert this dataframe to an interactive table.\"\n",
              "              style=\"display:none;\">\n",
              "        \n",
              "  <svg xmlns=\"http://www.w3.org/2000/svg\" height=\"24px\"viewBox=\"0 0 24 24\"\n",
              "       width=\"24px\">\n",
              "    <path d=\"M0 0h24v24H0V0z\" fill=\"none\"/>\n",
              "    <path d=\"M18.56 5.44l.94 2.06.94-2.06 2.06-.94-2.06-.94-.94-2.06-.94 2.06-2.06.94zm-11 1L8.5 8.5l.94-2.06 2.06-.94-2.06-.94L8.5 2.5l-.94 2.06-2.06.94zm10 10l.94 2.06.94-2.06 2.06-.94-2.06-.94-.94-2.06-.94 2.06-2.06.94z\"/><path d=\"M17.41 7.96l-1.37-1.37c-.4-.4-.92-.59-1.43-.59-.52 0-1.04.2-1.43.59L10.3 9.45l-7.72 7.72c-.78.78-.78 2.05 0 2.83L4 21.41c.39.39.9.59 1.41.59.51 0 1.02-.2 1.41-.59l7.78-7.78 2.81-2.81c.8-.78.8-2.07 0-2.86zM5.41 20L4 18.59l7.72-7.72 1.47 1.35L5.41 20z\"/>\n",
              "  </svg>\n",
              "      </button>\n",
              "      \n",
              "  <style>\n",
              "    .colab-df-container {\n",
              "      display:flex;\n",
              "      flex-wrap:wrap;\n",
              "      gap: 12px;\n",
              "    }\n",
              "\n",
              "    .colab-df-convert {\n",
              "      background-color: #E8F0FE;\n",
              "      border: none;\n",
              "      border-radius: 50%;\n",
              "      cursor: pointer;\n",
              "      display: none;\n",
              "      fill: #1967D2;\n",
              "      height: 32px;\n",
              "      padding: 0 0 0 0;\n",
              "      width: 32px;\n",
              "    }\n",
              "\n",
              "    .colab-df-convert:hover {\n",
              "      background-color: #E2EBFA;\n",
              "      box-shadow: 0px 1px 2px rgba(60, 64, 67, 0.3), 0px 1px 3px 1px rgba(60, 64, 67, 0.15);\n",
              "      fill: #174EA6;\n",
              "    }\n",
              "\n",
              "    [theme=dark] .colab-df-convert {\n",
              "      background-color: #3B4455;\n",
              "      fill: #D2E3FC;\n",
              "    }\n",
              "\n",
              "    [theme=dark] .colab-df-convert:hover {\n",
              "      background-color: #434B5C;\n",
              "      box-shadow: 0px 1px 3px 1px rgba(0, 0, 0, 0.15);\n",
              "      filter: drop-shadow(0px 1px 2px rgba(0, 0, 0, 0.3));\n",
              "      fill: #FFFFFF;\n",
              "    }\n",
              "  </style>\n",
              "\n",
              "      <script>\n",
              "        const buttonEl =\n",
              "          document.querySelector('#df-6b01b660-0ad6-4a4c-ba04-a7aaa7ad9371 button.colab-df-convert');\n",
              "        buttonEl.style.display =\n",
              "          google.colab.kernel.accessAllowed ? 'block' : 'none';\n",
              "\n",
              "        async function convertToInteractive(key) {\n",
              "          const element = document.querySelector('#df-6b01b660-0ad6-4a4c-ba04-a7aaa7ad9371');\n",
              "          const dataTable =\n",
              "            await google.colab.kernel.invokeFunction('convertToInteractive',\n",
              "                                                     [key], {});\n",
              "          if (!dataTable) return;\n",
              "\n",
              "          const docLinkHtml = 'Like what you see? Visit the ' +\n",
              "            '<a target=\"_blank\" href=https://colab.research.google.com/notebooks/data_table.ipynb>data table notebook</a>'\n",
              "            + ' to learn more about interactive tables.';\n",
              "          element.innerHTML = '';\n",
              "          dataTable['output_type'] = 'display_data';\n",
              "          await google.colab.output.renderOutput(dataTable, element);\n",
              "          const docLink = document.createElement('div');\n",
              "          docLink.innerHTML = docLinkHtml;\n",
              "          element.appendChild(docLink);\n",
              "        }\n",
              "      </script>\n",
              "    </div>\n",
              "  </div>\n",
              "  "
            ],
            "text/plain": [
              "      transaction_id  cust_id   tran_date  prod_subcat_code  prod_cat_code  \\\n",
              "0        80712190438   270351  28-02-2014                 1              1   \n",
              "1        80712190438   270351  28-02-2014                 1              1   \n",
              "2        80712190438   270351  28-02-2014                 1              1   \n",
              "3        80712190438   270351  20-02-2014                 1              1   \n",
              "4        80712190438   270351  20-02-2014                 1              1   \n",
              "...              ...      ...         ...               ...            ...   \n",
              "5000     18727956164   267161  23-02-2011                 4              4   \n",
              "5001     60416814232   273281  18-02-2011                 4              4   \n",
              "5002     60416814232   273281  18-02-2011                 4              4   \n",
              "5003     83245680995   273723  26-01-2011                 4              4   \n",
              "5004     83245680995   273723  26-01-2011                 4              4   \n",
              "\n",
              "      Qty  Rate     Tax  total_amt      Store_type  customer_Id         DOB  \\\n",
              "0      -5  -772  405.30   -4265.30          e-Shop       270351  26-09-1981   \n",
              "1      -5  -772  405.30   -4265.30          e-Shop       270351  26-09-1981   \n",
              "2      -5  -772  405.30   -4265.30          e-Shop       270351  26-09-1981   \n",
              "3       5   772  405.30    4265.30          e-Shop       270351  26-09-1981   \n",
              "4       5   772  405.30    4265.30          e-Shop       270351  26-09-1981   \n",
              "...   ...   ...     ...        ...             ...          ...         ...   \n",
              "5000    5   668  350.70    3690.70          e-Shop       267161  08-05-1981   \n",
              "5001    4   202   84.84     892.84  Flagship store       273281  14-12-1988   \n",
              "5002    4   202   84.84     892.84  Flagship store       273281  14-12-1988   \n",
              "5003    4  1477  620.34    6528.34          e-Shop       273723  21-01-1984   \n",
              "5004    4  1477  620.34    6528.34          e-Shop       273723  21-01-1984   \n",
              "\n",
              "     Gender  city_code  prod_cat  prod_sub_cat_code prod_subcat  \n",
              "0         M        5.0  Clothing                  4        Mens  \n",
              "1         M        5.0  Clothing                  1       Women  \n",
              "2         M        5.0  Clothing                  3        Kids  \n",
              "3         M        5.0  Clothing                  4        Mens  \n",
              "4         M        5.0  Clothing                  1       Women  \n",
              "...     ...        ...       ...                ...         ...  \n",
              "5000      M        9.0      Bags                  4       Women  \n",
              "5001      F        9.0      Bags                  1        Mens  \n",
              "5002      F        9.0      Bags                  4       Women  \n",
              "5003      F        4.0      Bags                  1        Mens  \n",
              "5004      F        4.0      Bags                  4       Women  \n",
              "\n",
              "[5005 rows x 17 columns]"
            ]
          },
          "metadata": {},
          "execution_count": 39
        }
      ]
    },
    {
      "cell_type": "markdown",
      "source": [
        " jumlah data yang tersedia\n"
      ],
      "metadata": {
        "id": "dXQ93EcfFJEw"
      }
    },
    {
      "cell_type": "code",
      "source": [
        "transaction_customer_prod.shape"
      ],
      "metadata": {
        "colab": {
          "base_uri": "https://localhost:8080/"
        },
        "id": "VBFvEw0DFFEL",
        "outputId": "7ed93aa2-1262-4a9b-ca14-7d15d6502937"
      },
      "execution_count": 40,
      "outputs": [
        {
          "output_type": "execute_result",
          "data": {
            "text/plain": [
              "(5005, 17)"
            ]
          },
          "metadata": {},
          "execution_count": 40
        }
      ]
    },
    {
      "cell_type": "code",
      "source": [
        "transaction_customer_prod.dtypes"
      ],
      "metadata": {
        "colab": {
          "base_uri": "https://localhost:8080/"
        },
        "id": "cSG0hzFLlrUF",
        "outputId": "dc6fbfe6-2a8d-4868-d9ca-1356917a0b7d"
      },
      "execution_count": null,
      "outputs": [
        {
          "output_type": "execute_result",
          "data": {
            "text/plain": [
              "transaction_id         int64\n",
              "cust_id                int64\n",
              "tran_date             object\n",
              "prod_subcat_code       int64\n",
              "prod_cat_code          int64\n",
              "Qty                    int64\n",
              "Rate                   int64\n",
              "Tax                  float64\n",
              "total_amt            float64\n",
              "Store_type            object\n",
              "customer_Id            int64\n",
              "DOB                   object\n",
              "Gender                object\n",
              "city_code            float64\n",
              "prod_cat              object\n",
              "prod_sub_cat_code      int64\n",
              "prod_subcat           object\n",
              "dtype: object"
            ]
          },
          "metadata": {},
          "execution_count": 6
        }
      ]
    },
    {
      "cell_type": "markdown",
      "source": [
        "Deskripsikan statistika data sederhana (mean, max, min,..) menggunakan fungsi pandas\n"
      ],
      "metadata": {
        "id": "-KPxl3cRFMxg"
      }
    },
    {
      "cell_type": "code",
      "source": [
        "Data_min = transaction_customer_prod['total_amt'].min()\n",
        "Data_max = transaction_customer_prod['total_amt'].max()\n",
        "Data_q1  = np.percentile(transaction_customer_prod.total_amt,25)\n",
        "median  = np.percentile(transaction_customer_prod.total_amt,50)\n",
        "Data_q3  = np.percentile(transaction_customer_prod.total_amt,75)\n",
        "print('Min = ',Data_min)\n",
        "print('Max = ',Data_max)\n",
        "print('Median = ',median)\n",
        "print('Q1 = ',Data_q1)\n",
        "print('Q3 = ',Data_q3)"
      ],
      "metadata": {
        "colab": {
          "base_uri": "https://localhost:8080/"
        },
        "id": "Ns3mjO4umTjn",
        "outputId": "46ac840b-aa97-4986-b72a-63559f22fdef"
      },
      "execution_count": null,
      "outputs": [
        {
          "output_type": "stream",
          "name": "stdout",
          "text": [
            "Min =  -8154.9\n",
            "Max =  8281.975\n",
            "Median =  1712.75\n",
            "Q1 =  703.885\n",
            "Q3 =  3547.05\n"
          ]
        }
      ]
    },
    {
      "cell_type": "markdown",
      "source": [
        "Bantulah perusahaan untuk bisa menentukan berapa banyak pelanggan berdasarkan jenis kelamin (men vs women)"
      ],
      "metadata": {
        "id": "tNCPqmIIFQoL"
      }
    },
    {
      "cell_type": "code",
      "source": [
        "freq_table = pd.crosstab(index = transaction_customer_prod['Gender'],\n",
        "                         columns = transaction_customer_prod['Store_type'])\n",
        "freq_table.columns = ['TeleShop','MBR','e-shop','Flagshipstore']\n",
        "freq_table.index = ['Male','Female']\n",
        "freq_table"
      ],
      "metadata": {
        "colab": {
          "base_uri": "https://localhost:8080/",
          "height": 112
        },
        "id": "pRcD6ibfmzTk",
        "outputId": "654e6fe0-3c86-403a-cce7-ace2f6208d60"
      },
      "execution_count": 41,
      "outputs": [
        {
          "output_type": "execute_result",
          "data": {
            "text/html": [
              "\n",
              "  <div id=\"df-2fa08de5-be3c-4c7f-b03f-b1952b48cd0a\">\n",
              "    <div class=\"colab-df-container\">\n",
              "      <div>\n",
              "<style scoped>\n",
              "    .dataframe tbody tr th:only-of-type {\n",
              "        vertical-align: middle;\n",
              "    }\n",
              "\n",
              "    .dataframe tbody tr th {\n",
              "        vertical-align: top;\n",
              "    }\n",
              "\n",
              "    .dataframe thead th {\n",
              "        text-align: right;\n",
              "    }\n",
              "</style>\n",
              "<table border=\"1\" class=\"dataframe\">\n",
              "  <thead>\n",
              "    <tr style=\"text-align: right;\">\n",
              "      <th></th>\n",
              "      <th>TeleShop</th>\n",
              "      <th>MBR</th>\n",
              "      <th>e-shop</th>\n",
              "      <th>Flagshipstore</th>\n",
              "    </tr>\n",
              "  </thead>\n",
              "  <tbody>\n",
              "    <tr>\n",
              "      <th>Male</th>\n",
              "      <td>487</td>\n",
              "      <td>511</td>\n",
              "      <td>461</td>\n",
              "      <td>953</td>\n",
              "    </tr>\n",
              "    <tr>\n",
              "      <th>Female</th>\n",
              "      <td>505</td>\n",
              "      <td>595</td>\n",
              "      <td>479</td>\n",
              "      <td>1008</td>\n",
              "    </tr>\n",
              "  </tbody>\n",
              "</table>\n",
              "</div>\n",
              "      <button class=\"colab-df-convert\" onclick=\"convertToInteractive('df-2fa08de5-be3c-4c7f-b03f-b1952b48cd0a')\"\n",
              "              title=\"Convert this dataframe to an interactive table.\"\n",
              "              style=\"display:none;\">\n",
              "        \n",
              "  <svg xmlns=\"http://www.w3.org/2000/svg\" height=\"24px\"viewBox=\"0 0 24 24\"\n",
              "       width=\"24px\">\n",
              "    <path d=\"M0 0h24v24H0V0z\" fill=\"none\"/>\n",
              "    <path d=\"M18.56 5.44l.94 2.06.94-2.06 2.06-.94-2.06-.94-.94-2.06-.94 2.06-2.06.94zm-11 1L8.5 8.5l.94-2.06 2.06-.94-2.06-.94L8.5 2.5l-.94 2.06-2.06.94zm10 10l.94 2.06.94-2.06 2.06-.94-2.06-.94-.94-2.06-.94 2.06-2.06.94z\"/><path d=\"M17.41 7.96l-1.37-1.37c-.4-.4-.92-.59-1.43-.59-.52 0-1.04.2-1.43.59L10.3 9.45l-7.72 7.72c-.78.78-.78 2.05 0 2.83L4 21.41c.39.39.9.59 1.41.59.51 0 1.02-.2 1.41-.59l7.78-7.78 2.81-2.81c.8-.78.8-2.07 0-2.86zM5.41 20L4 18.59l7.72-7.72 1.47 1.35L5.41 20z\"/>\n",
              "  </svg>\n",
              "      </button>\n",
              "      \n",
              "  <style>\n",
              "    .colab-df-container {\n",
              "      display:flex;\n",
              "      flex-wrap:wrap;\n",
              "      gap: 12px;\n",
              "    }\n",
              "\n",
              "    .colab-df-convert {\n",
              "      background-color: #E8F0FE;\n",
              "      border: none;\n",
              "      border-radius: 50%;\n",
              "      cursor: pointer;\n",
              "      display: none;\n",
              "      fill: #1967D2;\n",
              "      height: 32px;\n",
              "      padding: 0 0 0 0;\n",
              "      width: 32px;\n",
              "    }\n",
              "\n",
              "    .colab-df-convert:hover {\n",
              "      background-color: #E2EBFA;\n",
              "      box-shadow: 0px 1px 2px rgba(60, 64, 67, 0.3), 0px 1px 3px 1px rgba(60, 64, 67, 0.15);\n",
              "      fill: #174EA6;\n",
              "    }\n",
              "\n",
              "    [theme=dark] .colab-df-convert {\n",
              "      background-color: #3B4455;\n",
              "      fill: #D2E3FC;\n",
              "    }\n",
              "\n",
              "    [theme=dark] .colab-df-convert:hover {\n",
              "      background-color: #434B5C;\n",
              "      box-shadow: 0px 1px 3px 1px rgba(0, 0, 0, 0.15);\n",
              "      filter: drop-shadow(0px 1px 2px rgba(0, 0, 0, 0.3));\n",
              "      fill: #FFFFFF;\n",
              "    }\n",
              "  </style>\n",
              "\n",
              "      <script>\n",
              "        const buttonEl =\n",
              "          document.querySelector('#df-2fa08de5-be3c-4c7f-b03f-b1952b48cd0a button.colab-df-convert');\n",
              "        buttonEl.style.display =\n",
              "          google.colab.kernel.accessAllowed ? 'block' : 'none';\n",
              "\n",
              "        async function convertToInteractive(key) {\n",
              "          const element = document.querySelector('#df-2fa08de5-be3c-4c7f-b03f-b1952b48cd0a');\n",
              "          const dataTable =\n",
              "            await google.colab.kernel.invokeFunction('convertToInteractive',\n",
              "                                                     [key], {});\n",
              "          if (!dataTable) return;\n",
              "\n",
              "          const docLinkHtml = 'Like what you see? Visit the ' +\n",
              "            '<a target=\"_blank\" href=https://colab.research.google.com/notebooks/data_table.ipynb>data table notebook</a>'\n",
              "            + ' to learn more about interactive tables.';\n",
              "          element.innerHTML = '';\n",
              "          dataTable['output_type'] = 'display_data';\n",
              "          await google.colab.output.renderOutput(dataTable, element);\n",
              "          const docLink = document.createElement('div');\n",
              "          docLink.innerHTML = docLinkHtml;\n",
              "          element.appendChild(docLink);\n",
              "        }\n",
              "      </script>\n",
              "    </div>\n",
              "  </div>\n",
              "  "
            ],
            "text/plain": [
              "        TeleShop  MBR  e-shop  Flagshipstore\n",
              "Male         487  511     461            953\n",
              "Female       505  595     479           1008"
            ]
          },
          "metadata": {},
          "execution_count": 41
        }
      ]
    },
    {
      "cell_type": "markdown",
      "source": [
        "Mana y store type yang paling banyak diakses oleh pelanggan untuk mencari produk di perusahaan retail ini.\n"
      ],
      "metadata": {
        "id": "pPxeRxf_G6Ha"
      }
    },
    {
      "cell_type": "code",
      "source": [
        "freq_table = pd.crosstab(index = transaction_customer_prod['Gender'],\n",
        "                         columns = transaction_customer_prod['Store_type'])\n",
        "freq_table.columns = ['Bags','Clothing','Electronics','Home and kitchen']\n",
        "freq_table.index = ['Male','Female']\n",
        "freq_table"
      ],
      "metadata": {
        "colab": {
          "base_uri": "https://localhost:8080/",
          "height": 112
        },
        "id": "mg2ky3dHnaty",
        "outputId": "2dd037c5-bc19-4d76-9339-648a3c00b741"
      },
      "execution_count": null,
      "outputs": [
        {
          "output_type": "execute_result",
          "data": {
            "text/html": [
              "\n",
              "  <div id=\"df-1e608c9e-6ef0-4724-aaef-5016e634c1b5\">\n",
              "    <div class=\"colab-df-container\">\n",
              "      <div>\n",
              "<style scoped>\n",
              "    .dataframe tbody tr th:only-of-type {\n",
              "        vertical-align: middle;\n",
              "    }\n",
              "\n",
              "    .dataframe tbody tr th {\n",
              "        vertical-align: top;\n",
              "    }\n",
              "\n",
              "    .dataframe thead th {\n",
              "        text-align: right;\n",
              "    }\n",
              "</style>\n",
              "<table border=\"1\" class=\"dataframe\">\n",
              "  <thead>\n",
              "    <tr style=\"text-align: right;\">\n",
              "      <th></th>\n",
              "      <th>Bags</th>\n",
              "      <th>Clothing</th>\n",
              "      <th>Electronics</th>\n",
              "      <th>Home and kitchen</th>\n",
              "    </tr>\n",
              "  </thead>\n",
              "  <tbody>\n",
              "    <tr>\n",
              "      <th>Male</th>\n",
              "      <td>487</td>\n",
              "      <td>511</td>\n",
              "      <td>461</td>\n",
              "      <td>953</td>\n",
              "    </tr>\n",
              "    <tr>\n",
              "      <th>Female</th>\n",
              "      <td>505</td>\n",
              "      <td>595</td>\n",
              "      <td>479</td>\n",
              "      <td>1008</td>\n",
              "    </tr>\n",
              "  </tbody>\n",
              "</table>\n",
              "</div>\n",
              "      <button class=\"colab-df-convert\" onclick=\"convertToInteractive('df-1e608c9e-6ef0-4724-aaef-5016e634c1b5')\"\n",
              "              title=\"Convert this dataframe to an interactive table.\"\n",
              "              style=\"display:none;\">\n",
              "        \n",
              "  <svg xmlns=\"http://www.w3.org/2000/svg\" height=\"24px\"viewBox=\"0 0 24 24\"\n",
              "       width=\"24px\">\n",
              "    <path d=\"M0 0h24v24H0V0z\" fill=\"none\"/>\n",
              "    <path d=\"M18.56 5.44l.94 2.06.94-2.06 2.06-.94-2.06-.94-.94-2.06-.94 2.06-2.06.94zm-11 1L8.5 8.5l.94-2.06 2.06-.94-2.06-.94L8.5 2.5l-.94 2.06-2.06.94zm10 10l.94 2.06.94-2.06 2.06-.94-2.06-.94-.94-2.06-.94 2.06-2.06.94z\"/><path d=\"M17.41 7.96l-1.37-1.37c-.4-.4-.92-.59-1.43-.59-.52 0-1.04.2-1.43.59L10.3 9.45l-7.72 7.72c-.78.78-.78 2.05 0 2.83L4 21.41c.39.39.9.59 1.41.59.51 0 1.02-.2 1.41-.59l7.78-7.78 2.81-2.81c.8-.78.8-2.07 0-2.86zM5.41 20L4 18.59l7.72-7.72 1.47 1.35L5.41 20z\"/>\n",
              "  </svg>\n",
              "      </button>\n",
              "      \n",
              "  <style>\n",
              "    .colab-df-container {\n",
              "      display:flex;\n",
              "      flex-wrap:wrap;\n",
              "      gap: 12px;\n",
              "    }\n",
              "\n",
              "    .colab-df-convert {\n",
              "      background-color: #E8F0FE;\n",
              "      border: none;\n",
              "      border-radius: 50%;\n",
              "      cursor: pointer;\n",
              "      display: none;\n",
              "      fill: #1967D2;\n",
              "      height: 32px;\n",
              "      padding: 0 0 0 0;\n",
              "      width: 32px;\n",
              "    }\n",
              "\n",
              "    .colab-df-convert:hover {\n",
              "      background-color: #E2EBFA;\n",
              "      box-shadow: 0px 1px 2px rgba(60, 64, 67, 0.3), 0px 1px 3px 1px rgba(60, 64, 67, 0.15);\n",
              "      fill: #174EA6;\n",
              "    }\n",
              "\n",
              "    [theme=dark] .colab-df-convert {\n",
              "      background-color: #3B4455;\n",
              "      fill: #D2E3FC;\n",
              "    }\n",
              "\n",
              "    [theme=dark] .colab-df-convert:hover {\n",
              "      background-color: #434B5C;\n",
              "      box-shadow: 0px 1px 3px 1px rgba(0, 0, 0, 0.15);\n",
              "      filter: drop-shadow(0px 1px 2px rgba(0, 0, 0, 0.3));\n",
              "      fill: #FFFFFF;\n",
              "    }\n",
              "  </style>\n",
              "\n",
              "      <script>\n",
              "        const buttonEl =\n",
              "          document.querySelector('#df-1e608c9e-6ef0-4724-aaef-5016e634c1b5 button.colab-df-convert');\n",
              "        buttonEl.style.display =\n",
              "          google.colab.kernel.accessAllowed ? 'block' : 'none';\n",
              "\n",
              "        async function convertToInteractive(key) {\n",
              "          const element = document.querySelector('#df-1e608c9e-6ef0-4724-aaef-5016e634c1b5');\n",
              "          const dataTable =\n",
              "            await google.colab.kernel.invokeFunction('convertToInteractive',\n",
              "                                                     [key], {});\n",
              "          if (!dataTable) return;\n",
              "\n",
              "          const docLinkHtml = 'Like what you see? Visit the ' +\n",
              "            '<a target=\"_blank\" href=https://colab.research.google.com/notebooks/data_table.ipynb>data table notebook</a>'\n",
              "            + ' to learn more about interactive tables.';\n",
              "          element.innerHTML = '';\n",
              "          dataTable['output_type'] = 'display_data';\n",
              "          await google.colab.output.renderOutput(dataTable, element);\n",
              "          const docLink = document.createElement('div');\n",
              "          docLink.innerHTML = docLinkHtml;\n",
              "          element.appendChild(docLink);\n",
              "        }\n",
              "      </script>\n",
              "    </div>\n",
              "  </div>\n",
              "  "
            ],
            "text/plain": [
              "        Bags  Clothing  Electronics  Home and kitchen\n",
              "Male     487       511          461               953\n",
              "Female   505       595          479              1008"
            ]
          },
          "metadata": {},
          "execution_count": 17
        }
      ]
    },
    {
      "cell_type": "markdown",
      "source": [
        "Bantulah perusahaan untuk bisa menentukan product kategori (prod_cat) mana saja yang paling banyak diminati laki-laki dan perempuan "
      ],
      "metadata": {
        "id": "f_P8fT48Fb_p"
      }
    },
    {
      "cell_type": "code",
      "source": [
        "byGender = transaction_customer_prod.groupby(by=[\"Gender\"]).count()\n",
        "female = byGender['transaction_id'][0]\n",
        "male =  byGender['transaction_id'][1]"
      ],
      "metadata": {
        "id": "CTFwkK32GY1u"
      },
      "execution_count": 49,
      "outputs": []
    },
    {
      "cell_type": "code",
      "source": [
        "fig = plt.figure()\n",
        "ax = fig.add_axes([0,0,1,1])\n",
        "langs = ['Female', 'Male']\n",
        "ax.bar(langs,[female, male], color=['red', 'blue'])\n",
        "plt.show()\n",
        "byGender['transaction_id']"
      ],
      "metadata": {
        "colab": {
          "base_uri": "https://localhost:8080/",
          "height": 410
        },
        "id": "Sy80HxwkGHNo",
        "outputId": "773b5c0b-155a-4329-ca42-992909a7d1f4"
      },
      "execution_count": 47,
      "outputs": [
        {
          "output_type": "display_data",
          "data": {
            "image/png": "[encoded data removed]",
            "text/plain": [
              "<Figure size 432x288 with 1 Axes>"
            ]
          },
          "metadata": {
            "needs_background": "light"
          }
        },
        {
          "output_type": "execute_result",
          "data": {
            "text/plain": [
              "Gender\n",
              "F    2412\n",
              "M    2587\n",
              "Name: transaction_id, dtype: int64"
            ]
          },
          "metadata": {},
          "execution_count": 47
        }
      ]
    },
    {
      "cell_type": "markdown",
      "source": [
        "Mana y bulan dengan penjualan tertinggi dan terendah selama satu tahun."
      ],
      "metadata": {
        "id": "U91mcvIUG0Uh"
      }
    },
    {
      "cell_type": "code",
      "source": [
        "transaction_customer_prod['month'] = pd.DatetimeIndex(transaction_customer_prod['tran_date']).month\n",
        "jumlah = transaction_customer_prod.groupby(by=[\"month\"]).count()\n",
        "jumlah['transaction_id']"
      ],
      "metadata": {
        "colab": {
          "base_uri": "https://localhost:8080/"
        },
        "id": "2PqLVKoSsVRi",
        "outputId": "a518789f-f6ee-4c71-da7b-f5ea34877770"
      },
      "execution_count": 52,
      "outputs": [
        {
          "output_type": "execute_result",
          "data": {
            "text/plain": [
              "month\n",
              "1     473\n",
              "2     380\n",
              "3     432\n",
              "4     369\n",
              "5     407\n",
              "6     407\n",
              "7     422\n",
              "8     411\n",
              "9     422\n",
              "10    478\n",
              "11    438\n",
              "12    366\n",
              "Name: transaction_id, dtype: int64"
            ]
          },
          "metadata": {},
          "execution_count": 52
        }
      ]
    },
    {
      "cell_type": "code",
      "source": [
        "jumlah['transaction_id'].plot.bar()"
      ],
      "metadata": {
        "colab": {
          "base_uri": "https://localhost:8080/",
          "height": 303
        },
        "id": "xy3ReohfGAfd",
        "outputId": "cbcfa5fc-3871-41bc-d8a2-fbc27bb5b5e5"
      },
      "execution_count": 53,
      "outputs": [
        {
          "output_type": "execute_result",
          "data": {
            "text/plain": [
              "<matplotlib.axes._subplots.AxesSubplot at 0x7efdcb02bc50>"
            ]
          },
          "metadata": {},
          "execution_count": 53
        },
        {
          "output_type": "display_data",
          "data": {
            "image/png": "[encoded data removed]",
            "text/plain": [
              "<Figure size 432x288 with 1 Axes>"
            ]
          },
          "metadata": {
            "needs_background": "light"
          }
        }
      ]
    },
    {
      "cell_type": "code",
      "source": [
        "transaction_customer_prod['year'] = pd.DatetimeIndex(transaction_customer_prod['tran_date']).year\n",
        "jumlah = transaction_customer_prod.groupby(by=[\"year\"]).count()\n",
        "jumlah['transaction_id']"
      ],
      "metadata": {
        "id": "lu0I1q4Qw-Qo",
        "colab": {
          "base_uri": "https://localhost:8080/"
        },
        "outputId": "2be8b8de-dc40-479b-fe37-3d1d2177ec12"
      },
      "execution_count": 54,
      "outputs": [
        {
          "output_type": "execute_result",
          "data": {
            "text/plain": [
              "year\n",
              "2011    1417\n",
              "2012    1635\n",
              "2013    1693\n",
              "2014     260\n",
              "Name: transaction_id, dtype: int64"
            ]
          },
          "metadata": {},
          "execution_count": 54
        }
      ]
    },
    {
      "cell_type": "code",
      "source": [
        "jumlah['transaction_id'].plot.bar()"
      ],
      "metadata": {
        "colab": {
          "base_uri": "https://localhost:8080/",
          "height": 313
        },
        "id": "JcZZbvOnHMWX",
        "outputId": "bb09ca20-bb61-4f14-d4c0-7931bc8a4c3f"
      },
      "execution_count": 55,
      "outputs": [
        {
          "output_type": "execute_result",
          "data": {
            "text/plain": [
              "<matplotlib.axes._subplots.AxesSubplot at 0x7efdcd1c1f50>"
            ]
          },
          "metadata": {},
          "execution_count": 55
        },
        {
          "output_type": "display_data",
          "data": {
            "image/png": "[encoded data removed]",
            "text/plain": [
              "<Figure size 432x288 with 1 Axes>"
            ]
          },
          "metadata": {
            "needs_background": "light"
          }
        }
      ]
    }
  ]
}