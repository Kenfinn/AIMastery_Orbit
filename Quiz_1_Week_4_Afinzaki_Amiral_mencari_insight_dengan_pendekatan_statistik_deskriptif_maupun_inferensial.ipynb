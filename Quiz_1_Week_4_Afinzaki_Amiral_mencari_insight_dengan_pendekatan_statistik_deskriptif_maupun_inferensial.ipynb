{
  "nbformat": 4,
  "nbformat_minor": 0,
  "metadata": {
    "colab": {
      "name": "Quiz 1 - Week 4 - Afinzaki Amiral - mencari insight dengan pendekatan statistik deskriptif maupun inferensial",
      "provenance": [],
      "collapsed_sections": [],
      "mount_file_id": "1h8-tJNVJdtROHotQDKDQrOMomoETg0WK",
      "authorship_tag": "ABX9TyPfa/gijw5lITgiST0dddf3",
      "include_colab_link": true
    },
    "kernelspec": {
      "name": "python3",
      "display_name": "Python 3"
    },
    "language_info": {
      "name": "python"
    },
    "accelerator": "GPU"
  },
  "cells": [
    {
      "cell_type": "markdown",
      "metadata": {
        "id": "view-in-github",
        "colab_type": "text"
      },
      "source": [
        "<a href=\"https://colab.research.google.com/github/Kenfinn/AIMastery_Orbit/blob/main/Quiz_1_Week_4_Afinzaki_Amiral_mencari_insight_dengan_pendekatan_statistik_deskriptif_maupun_inferensial.ipynb\" target=\"_parent\"><img src=\"https://colab.research.google.com/assets/colab-badge.svg\" alt=\"Open In Colab\"/></a>"
      ]
    },
    {
      "cell_type": "markdown",
      "source": [
        "Quiz 1 - Week 4\n",
        "\n",
        "Agrikultur merupakan salah satu sektor penting untuk menunjang ekonomi dalam negeri maupun luar negeri. Oleh karena nya kualitas produk dan jumlah produksi harus tetapi stabil.\n",
        "\n",
        "Apa insight yang bisa kamu explore dari data-data diatas menggunakan pendekatan statistik deskriptif maupun inferensial?\n",
        "Insight bisa dalam bentuk angka\n",
        "\n",
        "*   Insight bisa dalam bentuk graph\n",
        "*   Insight bisa dalam bentuk tabel\n",
        "*   Insight bisa dalam bentuk estimasi\n",
        "*   Insight bisa dalam bentuk hipotesis\n",
        "\n",
        "Contoh Insight\n",
        "*   Total produksi berdasarakan jenis tanaman\n",
        "*   Total produksi setiap tahunnya\n",
        "*   Jumlah produksi tertinggi dan terendah berdasarkan daerah \n"
      ],
      "metadata": {
        "id": "j094cpqp9JBw"
      }
    },
    {
      "cell_type": "code",
      "execution_count": 1,
      "metadata": {
        "id": "GL1dCi7J9IcE"
      },
      "outputs": [],
      "source": [
        "import numpy as np\n",
        "import pandas as pd\n",
        "import matplotlib.pyplot as plt\n",
        "import seaborn as sns"
      ]
    },
    {
      "cell_type": "code",
      "source": [
        "from google.colab import drive\n",
        "drive.mount('/content/drive')"
      ],
      "metadata": {
        "colab": {
          "base_uri": "https://localhost:8080/"
        },
        "id": "H5YYL5LU9KNG",
        "outputId": "5aa7597d-b41e-4776-9f96-f17f2c7e82f3"
      },
      "execution_count": 3,
      "outputs": [
        {
          "output_type": "stream",
          "name": "stdout",
          "text": [
            "Drive already mounted at /content/drive; to attempt to forcibly remount, call drive.mount(\"/content/drive\", force_remount=True).\n"
          ]
        }
      ]
    },
    {
      "cell_type": "code",
      "source": [
        "data = pd.read_csv(\"/content/drive/MyDrive/Colab Notebooks/Dataset/apy.csv\")"
      ],
      "metadata": {
        "id": "aIWrmngE-UIx"
      },
      "execution_count": 5,
      "outputs": []
    },
    {
      "cell_type": "code",
      "source": [
        "data.head()"
      ],
      "metadata": {
        "colab": {
          "base_uri": "https://localhost:8080/",
          "height": 206
        },
        "id": "hpP3zK99_RYW",
        "outputId": "b579fe5a-80e5-4cdf-8c0c-f21826e45a12"
      },
      "execution_count": 7,
      "outputs": [
        {
          "output_type": "execute_result",
          "data": {
            "text/plain": [
              "                    State_Name District_Name  Crop_Year       Season  \\\n",
              "0  Andaman and Nicobar Islands      NICOBARS       2000  Kharif        \n",
              "1  Andaman and Nicobar Islands      NICOBARS       2000  Kharif        \n",
              "2  Andaman and Nicobar Islands      NICOBARS       2000  Kharif        \n",
              "3  Andaman and Nicobar Islands      NICOBARS       2000  Whole Year    \n",
              "4  Andaman and Nicobar Islands      NICOBARS       2000  Whole Year    \n",
              "\n",
              "                  Crop    Area Production  \n",
              "0             Arecanut  1254.0       2000  \n",
              "1  Other Kharif pulses     2.0          1  \n",
              "2                 Rice   102.0        321  \n",
              "3               Banana   176.0        641  \n",
              "4            Cashewnut   720.0        165  "
            ],
            "text/html": [
              "\n",
              "  <div id=\"df-4b3adcc8-d246-4309-979a-904fed2c70ed\">\n",
              "    <div class=\"colab-df-container\">\n",
              "      <div>\n",
              "<style scoped>\n",
              "    .dataframe tbody tr th:only-of-type {\n",
              "        vertical-align: middle;\n",
              "    }\n",
              "\n",
              "    .dataframe tbody tr th {\n",
              "        vertical-align: top;\n",
              "    }\n",
              "\n",
              "    .dataframe thead th {\n",
              "        text-align: right;\n",
              "    }\n",
              "</style>\n",
              "<table border=\"1\" class=\"dataframe\">\n",
              "  <thead>\n",
              "    <tr style=\"text-align: right;\">\n",
              "      <th></th>\n",
              "      <th>State_Name</th>\n",
              "      <th>District_Name</th>\n",
              "      <th>Crop_Year</th>\n",
              "      <th>Season</th>\n",
              "      <th>Crop</th>\n",
              "      <th>Area</th>\n",
              "      <th>Production</th>\n",
              "    </tr>\n",
              "  </thead>\n",
              "  <tbody>\n",
              "    <tr>\n",
              "      <th>0</th>\n",
              "      <td>Andaman and Nicobar Islands</td>\n",
              "      <td>NICOBARS</td>\n",
              "      <td>2000</td>\n",
              "      <td>Kharif</td>\n",
              "      <td>Arecanut</td>\n",
              "      <td>1254.0</td>\n",
              "      <td>2000</td>\n",
              "    </tr>\n",
              "    <tr>\n",
              "      <th>1</th>\n",
              "      <td>Andaman and Nicobar Islands</td>\n",
              "      <td>NICOBARS</td>\n",
              "      <td>2000</td>\n",
              "      <td>Kharif</td>\n",
              "      <td>Other Kharif pulses</td>\n",
              "      <td>2.0</td>\n",
              "      <td>1</td>\n",
              "    </tr>\n",
              "    <tr>\n",
              "      <th>2</th>\n",
              "      <td>Andaman and Nicobar Islands</td>\n",
              "      <td>NICOBARS</td>\n",
              "      <td>2000</td>\n",
              "      <td>Kharif</td>\n",
              "      <td>Rice</td>\n",
              "      <td>102.0</td>\n",
              "      <td>321</td>\n",
              "    </tr>\n",
              "    <tr>\n",
              "      <th>3</th>\n",
              "      <td>Andaman and Nicobar Islands</td>\n",
              "      <td>NICOBARS</td>\n",
              "      <td>2000</td>\n",
              "      <td>Whole Year</td>\n",
              "      <td>Banana</td>\n",
              "      <td>176.0</td>\n",
              "      <td>641</td>\n",
              "    </tr>\n",
              "    <tr>\n",
              "      <th>4</th>\n",
              "      <td>Andaman and Nicobar Islands</td>\n",
              "      <td>NICOBARS</td>\n",
              "      <td>2000</td>\n",
              "      <td>Whole Year</td>\n",
              "      <td>Cashewnut</td>\n",
              "      <td>720.0</td>\n",
              "      <td>165</td>\n",
              "    </tr>\n",
              "  </tbody>\n",
              "</table>\n",
              "</div>\n",
              "      <button class=\"colab-df-convert\" onclick=\"convertToInteractive('df-4b3adcc8-d246-4309-979a-904fed2c70ed')\"\n",
              "              title=\"Convert this dataframe to an interactive table.\"\n",
              "              style=\"display:none;\">\n",
              "        \n",
              "  <svg xmlns=\"http://www.w3.org/2000/svg\" height=\"24px\"viewBox=\"0 0 24 24\"\n",
              "       width=\"24px\">\n",
              "    <path d=\"M0 0h24v24H0V0z\" fill=\"none\"/>\n",
              "    <path d=\"M18.56 5.44l.94 2.06.94-2.06 2.06-.94-2.06-.94-.94-2.06-.94 2.06-2.06.94zm-11 1L8.5 8.5l.94-2.06 2.06-.94-2.06-.94L8.5 2.5l-.94 2.06-2.06.94zm10 10l.94 2.06.94-2.06 2.06-.94-2.06-.94-.94-2.06-.94 2.06-2.06.94z\"/><path d=\"M17.41 7.96l-1.37-1.37c-.4-.4-.92-.59-1.43-.59-.52 0-1.04.2-1.43.59L10.3 9.45l-7.72 7.72c-.78.78-.78 2.05 0 2.83L4 21.41c.39.39.9.59 1.41.59.51 0 1.02-.2 1.41-.59l7.78-7.78 2.81-2.81c.8-.78.8-2.07 0-2.86zM5.41 20L4 18.59l7.72-7.72 1.47 1.35L5.41 20z\"/>\n",
              "  </svg>\n",
              "      </button>\n",
              "      \n",
              "  <style>\n",
              "    .colab-df-container {\n",
              "      display:flex;\n",
              "      flex-wrap:wrap;\n",
              "      gap: 12px;\n",
              "    }\n",
              "\n",
              "    .colab-df-convert {\n",
              "      background-color: #E8F0FE;\n",
              "      border: none;\n",
              "      border-radius: 50%;\n",
              "      cursor: pointer;\n",
              "      display: none;\n",
              "      fill: #1967D2;\n",
              "      height: 32px;\n",
              "      padding: 0 0 0 0;\n",
              "      width: 32px;\n",
              "    }\n",
              "\n",
              "    .colab-df-convert:hover {\n",
              "      background-color: #E2EBFA;\n",
              "      box-shadow: 0px 1px 2px rgba(60, 64, 67, 0.3), 0px 1px 3px 1px rgba(60, 64, 67, 0.15);\n",
              "      fill: #174EA6;\n",
              "    }\n",
              "\n",
              "    [theme=dark] .colab-df-convert {\n",
              "      background-color: #3B4455;\n",
              "      fill: #D2E3FC;\n",
              "    }\n",
              "\n",
              "    [theme=dark] .colab-df-convert:hover {\n",
              "      background-color: #434B5C;\n",
              "      box-shadow: 0px 1px 3px 1px rgba(0, 0, 0, 0.15);\n",
              "      filter: drop-shadow(0px 1px 2px rgba(0, 0, 0, 0.3));\n",
              "      fill: #FFFFFF;\n",
              "    }\n",
              "  </style>\n",
              "\n",
              "      <script>\n",
              "        const buttonEl =\n",
              "          document.querySelector('#df-4b3adcc8-d246-4309-979a-904fed2c70ed button.colab-df-convert');\n",
              "        buttonEl.style.display =\n",
              "          google.colab.kernel.accessAllowed ? 'block' : 'none';\n",
              "\n",
              "        async function convertToInteractive(key) {\n",
              "          const element = document.querySelector('#df-4b3adcc8-d246-4309-979a-904fed2c70ed');\n",
              "          const dataTable =\n",
              "            await google.colab.kernel.invokeFunction('convertToInteractive',\n",
              "                                                     [key], {});\n",
              "          if (!dataTable) return;\n",
              "\n",
              "          const docLinkHtml = 'Like what you see? Visit the ' +\n",
              "            '<a target=\"_blank\" href=https://colab.research.google.com/notebooks/data_table.ipynb>data table notebook</a>'\n",
              "            + ' to learn more about interactive tables.';\n",
              "          element.innerHTML = '';\n",
              "          dataTable['output_type'] = 'display_data';\n",
              "          await google.colab.output.renderOutput(dataTable, element);\n",
              "          const docLink = document.createElement('div');\n",
              "          docLink.innerHTML = docLinkHtml;\n",
              "          element.appendChild(docLink);\n",
              "        }\n",
              "      </script>\n",
              "    </div>\n",
              "  </div>\n",
              "  "
            ]
          },
          "metadata": {},
          "execution_count": 7
        }
      ]
    },
    {
      "cell_type": "code",
      "source": [
        "data.info()"
      ],
      "metadata": {
        "colab": {
          "base_uri": "https://localhost:8080/"
        },
        "id": "8rjkfGPcAGy0",
        "outputId": "6254ae11-80e1-422c-979f-2c713715e328"
      },
      "execution_count": 8,
      "outputs": [
        {
          "output_type": "stream",
          "name": "stdout",
          "text": [
            "<class 'pandas.core.frame.DataFrame'>\n",
            "RangeIndex: 246091 entries, 0 to 246090\n",
            "Data columns (total 7 columns):\n",
            " #   Column         Non-Null Count   Dtype  \n",
            "---  ------         --------------   -----  \n",
            " 0   State_Name     246091 non-null  object \n",
            " 1   District_Name  246091 non-null  object \n",
            " 2   Crop_Year      246091 non-null  int64  \n",
            " 3   Season         246091 non-null  object \n",
            " 4   Crop           246091 non-null  object \n",
            " 5   Area           246091 non-null  float64\n",
            " 6   Production     246091 non-null  object \n",
            "dtypes: float64(1), int64(1), object(5)\n",
            "memory usage: 13.1+ MB\n"
          ]
        }
      ]
    },
    {
      "cell_type": "code",
      "source": [
        "print (data['State_Name'].unique())"
      ],
      "metadata": {
        "colab": {
          "base_uri": "https://localhost:8080/"
        },
        "id": "szWRyrHuA4Pg",
        "outputId": "ca5d64cc-71b4-4508-c04a-2ee70501ef98"
      },
      "execution_count": 9,
      "outputs": [
        {
          "output_type": "stream",
          "name": "stdout",
          "text": [
            "['Andaman and Nicobar Islands' 'Andhra Pradesh' 'Arunachal Pradesh'\n",
            " 'Assam' 'Bihar' 'Chandigarh' 'Chhattisgarh' 'Dadra and Nagar Haveli'\n",
            " 'Goa' 'Gujarat' 'Haryana' 'Himachal Pradesh' 'Jammu and Kashmir '\n",
            " 'Jharkhand' 'Karnataka' 'Kerala' 'Madhya Pradesh' 'Maharashtra' 'Manipur'\n",
            " 'Meghalaya' 'Mizoram' 'Nagaland' 'Odisha' 'Puducherry' 'Punjab'\n",
            " 'Rajasthan' 'Sikkim' 'Tamil Nadu' 'Telangana ' 'Tripura' 'Uttar Pradesh'\n",
            " 'Uttarakhand' 'West Bengal']\n"
          ]
        }
      ]
    },
    {
      "cell_type": "code",
      "source": [
        "print (data['Production'].unique())"
      ],
      "metadata": {
        "colab": {
          "base_uri": "https://localhost:8080/"
        },
        "id": "U4M7KNkhA8BO",
        "outputId": "7083b43f-ae34-46b9-93a6-cfc71aae1b18"
      },
      "execution_count": 15,
      "outputs": [
        {
          "output_type": "stream",
          "name": "stdout",
          "text": [
            "['2000' '1' '321' ... '729553' '730136' '597899']\n"
          ]
        }
      ]
    },
    {
      "cell_type": "code",
      "source": [
        "print (data['Season'].unique())"
      ],
      "metadata": {
        "colab": {
          "base_uri": "https://localhost:8080/"
        },
        "id": "c1YonlNNASHd",
        "outputId": "2d5a5708-5e56-4c99-ec8d-96c6572f5748"
      },
      "execution_count": 10,
      "outputs": [
        {
          "output_type": "stream",
          "name": "stdout",
          "text": [
            "['Kharif     ' 'Whole Year ' 'Autumn     ' 'Rabi       ' 'Summer     '\n",
            " 'Winter     ']\n"
          ]
        }
      ]
    },
    {
      "cell_type": "code",
      "source": [
        "sns.countplot(data['State_Name'])\n",
        "plt.show()"
      ],
      "metadata": {
        "id": "9s2u2cy7A8uk",
        "colab": {
          "base_uri": "https://localhost:8080/",
          "height": 336
        },
        "outputId": "b2ec8c8b-f6de-43c3-f542-88bb26ccfab7"
      },
      "execution_count": 11,
      "outputs": [
        {
          "output_type": "stream",
          "name": "stderr",
          "text": [
            "/usr/local/lib/python3.7/dist-packages/seaborn/_decorators.py:43: FutureWarning: Pass the following variable as a keyword arg: x. From version 0.12, the only valid positional argument will be `data`, and passing other arguments without an explicit keyword will result in an error or misinterpretation.\n",
            "  FutureWarning\n"
          ]
        },
        {
          "output_type": "display_data",
          "data": {
            "text/plain": [
              "<Figure size 432x288 with 1 Axes>"
            ],
            "image/png": "[encoded data removed]"
          },
          "metadata": {
            "needs_background": "light"
          }
        }
      ]
    },
    {
      "cell_type": "code",
      "source": [
        "sns.countplot(data['Season'])\n",
        "plt.show()"
      ],
      "metadata": {
        "colab": {
          "base_uri": "https://localhost:8080/",
          "height": 338
        },
        "id": "kVuBPTa2_Sr4",
        "outputId": "db5a34e9-c7c2-42a5-c672-42ea3521a28f"
      },
      "execution_count": 12,
      "outputs": [
        {
          "output_type": "stream",
          "name": "stderr",
          "text": [
            "/usr/local/lib/python3.7/dist-packages/seaborn/_decorators.py:43: FutureWarning: Pass the following variable as a keyword arg: x. From version 0.12, the only valid positional argument will be `data`, and passing other arguments without an explicit keyword will result in an error or misinterpretation.\n",
            "  FutureWarning\n"
          ]
        },
        {
          "output_type": "display_data",
          "data": {
            "text/plain": [
              "<Figure size 432x288 with 1 Axes>"
            ],
            "image/png": "[encoded data removed]"
          },
          "metadata": {
            "needs_background": "light"
          }
        }
      ]
    },
    {
      "cell_type": "code",
      "source": [
        "cat = ['District_Name', 'Production', 'Crop_Year', 'Area']"
      ],
      "metadata": {
        "id": "LZPx4oXlA2R1"
      },
      "execution_count": 13,
      "outputs": []
    },
    {
      "cell_type": "code",
      "source": [
        "for column in cat:\n",
        "  plt.figure(figsize=(20,8))\n",
        "  plt.title(f\"{column}\")\n",
        "  sns.countplot(data[column])\n",
        "  plt.show()"
      ],
      "metadata": {
        "colab": {
          "base_uri": "https://localhost:8080/",
          "height": 1000
        },
        "id": "rMYaCCxrFdcK",
        "outputId": "4fd1a1cf-7731-4199-8316-6b27f6a52fad"
      },
      "execution_count": 14,
      "outputs": [
        {
          "metadata": {
            "tags": null
          },
          "name": "stderr",
          "output_type": "stream",
          "text": [
            "/usr/local/lib/python3.7/dist-packages/seaborn/_decorators.py:43: FutureWarning: Pass the following variable as a keyword arg: x. From version 0.12, the only valid positional argument will be `data`, and passing other arguments without an explicit keyword will result in an error or misinterpretation.\n",
            "  FutureWarning\n"
          ]
        },
        {
          "data": {
            "image/png": "[encoded data removed]",
            "text/plain": [
              "<Figure size 1440x576 with 1 Axes>"
            ]
          },
          "metadata": {},
          "output_type": "display_data"
        },
        {
          "metadata": {
            "tags": null
          },
          "name": "stderr",
          "output_type": "stream",
          "text": [
            "/usr/local/lib/python3.7/dist-packages/seaborn/_decorators.py:43: FutureWarning: Pass the following variable as a keyword arg: x. From version 0.12, the only valid positional argument will be `data`, and passing other arguments without an explicit keyword will result in an error or misinterpretation.\n",
            "  FutureWarning\n"
          ]
        },
        {
          "data": {
            "image/png": "[encoded data removed]",
            "text/plain": [
              "<Figure size 1440x576 with 1 Axes>"
            ]
          },
          "metadata": {},
          "output_type": "display_data"
        },
        {
          "metadata": {
            "tags": null
          },
          "name": "stderr",
          "output_type": "stream",
          "text": [
            "/usr/local/lib/python3.7/dist-packages/seaborn/_decorators.py:43: FutureWarning: Pass the following variable as a keyword arg: x. From version 0.12, the only valid positional argument will be `data`, and passing other arguments without an explicit keyword will result in an error or misinterpretation.\n",
            "  FutureWarning\n"
          ]
        },
        {
          "data": {
            "image/png": "[encoded data removed]",
            "text/plain": [
              "<Figure size 1440x576 with 1 Axes>"
            ]
          },
          "metadata": {},
          "output_type": "display_data"
        },
        {
          "metadata": {
            "tags": null
          },
          "name": "stderr",
          "output_type": "stream",
          "text": [
            "/usr/local/lib/python3.7/dist-packages/seaborn/_decorators.py:43: FutureWarning: Pass the following variable as a keyword arg: x. From version 0.12, the only valid positional argument will be `data`, and passing other arguments without an explicit keyword will result in an error or misinterpretation.\n",
            "  FutureWarning\n"
          ]
        },
        {
          "output_type": "display_data",
          "data": {
            "text/plain": [
              "<Figure size 1440x576 with 1 Axes>"
            ],
            "image/png": "[encoded data removed]"
          },
          "metadata": {
            "needs_background": "light"
          }
        }
      ]
    },
    {
      "cell_type": "code",
      "source": [
        "distric = data['Crop_Year']\n",
        "plt.hist(distric, bins=10)\n",
        "plt.show()"
      ],
      "metadata": {
        "id": "pEFx4BlZFwrJ",
        "colab": {
          "base_uri": "https://localhost:8080/",
          "height": 265
        },
        "outputId": "0ec6cc0b-d534-4fde-eabd-b0ebb4c5d983"
      },
      "execution_count": 23,
      "outputs": [
        {
          "output_type": "display_data",
          "data": {
            "text/plain": [
              "<Figure size 432x288 with 1 Axes>"
            ],
            "image/png": "[encoded data removed]"
          },
          "metadata": {
            "needs_background": "light"
          }
        }
      ]
    },
    {
      "cell_type": "code",
      "source": [
        "data.isnull().sum()"
      ],
      "metadata": {
        "id": "1HFGuKx9HivA",
        "colab": {
          "base_uri": "https://localhost:8080/"
        },
        "outputId": "973e399f-0355-4dee-b11d-d5993a9a8398"
      },
      "execution_count": 16,
      "outputs": [
        {
          "output_type": "execute_result",
          "data": {
            "text/plain": [
              "State_Name       0\n",
              "District_Name    0\n",
              "Crop_Year        0\n",
              "Season           0\n",
              "Crop             0\n",
              "Area             0\n",
              "Production       0\n",
              "dtype: int64"
            ]
          },
          "metadata": {},
          "execution_count": 16
        }
      ]
    },
    {
      "cell_type": "code",
      "source": [
        "plt.figure(figsize=(10,6))\n",
        "sns.displot(data['Crop_Year'][data['Area']==0])\n",
        "plt.legend(['Exited=0'])\n",
        "plt.show()\n",
        "sns.displot(data['Crop_Year'][data['Area']==1])\n",
        "plt.legend(['Exited=1'])\n",
        "plt.show()"
      ],
      "metadata": {
        "colab": {
          "base_uri": "https://localhost:8080/",
          "height": 739
        },
        "id": "MNrbbDayI4iW",
        "outputId": "2b0d2ec4-cf99-4843-b0f3-ba3a5965fa53"
      },
      "execution_count": 31,
      "outputs": [
        {
          "output_type": "display_data",
          "data": {
            "text/plain": [
              "<Figure size 720x432 with 0 Axes>"
            ]
          },
          "metadata": {}
        },
        {
          "output_type": "display_data",
          "data": {
            "text/plain": [
              "<Figure size 360x360 with 1 Axes>"
            ],
            "image/png": "[encoded data removed]"
          },
          "metadata": {
            "needs_background": "light"
          }
        },
        {
          "output_type": "display_data",
          "data": {
            "text/plain": [
              "<Figure size 360x360 with 1 Axes>"
            ],
            "image/png": "[encoded data removed]"
          },
          "metadata": {
            "needs_background": "light"
          }
        }
      ]
    },
    {
      "cell_type": "code",
      "source": [
        "pivot = pd.crosstab(data['Crop_Year'], data['District_Name'], margins=True)\n",
        "pivot"
      ],
      "metadata": {
        "colab": {
          "base_uri": "https://localhost:8080/",
          "height": 836
        },
        "id": "8nhFqWF6Kd7j",
        "outputId": "a6e9a06d-a80e-48d2-9a60-f4d1f91a1129"
      },
      "execution_count": 33,
      "outputs": [
        {
          "output_type": "execute_result",
          "data": {
            "text/plain": [
              "District_Name  24 PARAGANAS NORTH  24 PARAGANAS SOUTH  ADILABAD  AGAR MALWA  \\\n",
              "Crop_Year                                                                     \n",
              "1997                           27                  25        26           0   \n",
              "1998                           26                  27        30           0   \n",
              "1999                           27                  27        28           0   \n",
              "2000                           25                  24        44           0   \n",
              "2001                           27                  25        42           0   \n",
              "2002                           25                  23        58           0   \n",
              "2003                           27                  24        57           0   \n",
              "2004                           25                  23        43           0   \n",
              "2005                           27                  28        40           0   \n",
              "2006                           26                  24        41           0   \n",
              "2007                           29                  28        22           0   \n",
              "2008                           27                  26        30           0   \n",
              "2009                           24                  21        35           0   \n",
              "2010                           24                  23        38           0   \n",
              "2011                           23                  20        36           0   \n",
              "2012                           23                  21         0           0   \n",
              "2013                           23                  21        38          28   \n",
              "2014                           25                  21        42           0   \n",
              "2015                            0                   0         0           0   \n",
              "All                           460                 431       650          28   \n",
              "\n",
              "District_Name  AGRA  AHMADABAD  AHMEDNAGAR  AIZAWL  AJMER  AKOLA  ...  \\\n",
              "Crop_Year                                                         ...   \n",
              "1997             26         25          19      15     14     14  ...   \n",
              "1998             28         28          32      15     30     27  ...   \n",
              "1999             26         26          32      11     32     22  ...   \n",
              "2000             24         24          30      14     29     22  ...   \n",
              "2001             24         24          32      19     32     21  ...   \n",
              "2002             25         24          31      18     34     20  ...   \n",
              "2003             25         20          36      17     37     26  ...   \n",
              "2004             21         19          32      10     29     22  ...   \n",
              "2005             19         23          23      16     29     18  ...   \n",
              "2006             26         22          26      12     27     21  ...   \n",
              "2007             27         26          27      10     28     22  ...   \n",
              "2008             29         23          26      11     29     20  ...   \n",
              "2009             30         20          24      11     29     19  ...   \n",
              "2010             25         26          22       0     30     18  ...   \n",
              "2011             30         22          27       0      0     19  ...   \n",
              "2012             29         20          26       0      0     16  ...   \n",
              "2013             27          0          26       0      0     15  ...   \n",
              "2014             27          0          24       0      0     13  ...   \n",
              "2015              0          0           0       0      0      0  ...   \n",
              "All             468        372         495     179    409    355  ...   \n",
              "\n",
              "District_Name  WEST SIANG  WEST SINGHBHUM  WEST TRIPURA  WOKHA  YADGIR  \\\n",
              "Crop_Year                                                                \n",
              "1997                   11               0             0      5       0   \n",
              "1998                   15               0            21      3       0   \n",
              "1999                   11               0             8     21       0   \n",
              "2000                   11               0             8     28       0   \n",
              "2001                   11               0             8     27       0   \n",
              "2002                   11               5            10     25       0   \n",
              "2003                   11               6             8     28       0   \n",
              "2004                    9               7            21     27       0   \n",
              "2005                    9               6            21     23       0   \n",
              "2006                   10              11            21     25       0   \n",
              "2007                   10              10            21     26       0   \n",
              "2008                   10               0            21     28       0   \n",
              "2009                   10               0            21     30       0   \n",
              "2010                   10               6            21     29      45   \n",
              "2011                   10               0            21     31      48   \n",
              "2012                    9               0            21     31      40   \n",
              "2013                    9               0            20     34      39   \n",
              "2014                    9               0            19     34      40   \n",
              "2015                    0               0             0      0       0   \n",
              "All                   186              51           291    455     212   \n",
              "\n",
              "District_Name  YAMUNANAGAR  YANAM  YAVATMAL  ZUNHEBOTO     All  \n",
              "Crop_Year                                                       \n",
              "1997                     8      0        13          4    8899  \n",
              "1998                    19      4        27          3   11533  \n",
              "1999                    19      9        27         19   12515  \n",
              "2000                    23     10        28         25   13658  \n",
              "2001                    20      7        26         23   13361  \n",
              "2002                    22      8        24         24   16671  \n",
              "2003                    24     10        29         27   17287  \n",
              "2004                    20      7        22         24   14117  \n",
              "2005                    20      7        18         21   13799  \n",
              "2006                    21      2        20         22   14328  \n",
              "2007                    22      7        17         22   14526  \n",
              "2008                    23      8        17         28   14550  \n",
              "2009                    19      8        15         26   14116  \n",
              "2010                    22      8        14         25   14065  \n",
              "2011                    23      8        16         28   14071  \n",
              "2012                    21      9        17         28   13410  \n",
              "2013                     0      7        14         31   13650  \n",
              "2014                     0      7        13         31   10973  \n",
              "2015                     0      0         0          0     562  \n",
              "All                    326    126       357        411  246091  \n",
              "\n",
              "[20 rows x 647 columns]"
            ],
            "text/html": [
              "\n",
              "  <div id=\"df-eb9ce882-5e16-4c9a-9c56-0b076f08400c\">\n",
              "    <div class=\"colab-df-container\">\n",
              "      <div>\n",
              "<style scoped>\n",
              "    .dataframe tbody tr th:only-of-type {\n",
              "        vertical-align: middle;\n",
              "    }\n",
              "\n",
              "    .dataframe tbody tr th {\n",
              "        vertical-align: top;\n",
              "    }\n",
              "\n",
              "    .dataframe thead th {\n",
              "        text-align: right;\n",
              "    }\n",
              "</style>\n",
              "<table border=\"1\" class=\"dataframe\">\n",
              "  <thead>\n",
              "    <tr style=\"text-align: right;\">\n",
              "      <th>District_Name</th>\n",
              "      <th>24 PARAGANAS NORTH</th>\n",
              "      <th>24 PARAGANAS SOUTH</th>\n",
              "      <th>ADILABAD</th>\n",
              "      <th>AGAR MALWA</th>\n",
              "      <th>AGRA</th>\n",
              "      <th>AHMADABAD</th>\n",
              "      <th>AHMEDNAGAR</th>\n",
              "      <th>AIZAWL</th>\n",
              "      <th>AJMER</th>\n",
              "      <th>AKOLA</th>\n",
              "      <th>...</th>\n",
              "      <th>WEST SIANG</th>\n",
              "      <th>WEST SINGHBHUM</th>\n",
              "      <th>WEST TRIPURA</th>\n",
              "      <th>WOKHA</th>\n",
              "      <th>YADGIR</th>\n",
              "      <th>YAMUNANAGAR</th>\n",
              "      <th>YANAM</th>\n",
              "      <th>YAVATMAL</th>\n",
              "      <th>ZUNHEBOTO</th>\n",
              "      <th>All</th>\n",
              "    </tr>\n",
              "    <tr>\n",
              "      <th>Crop_Year</th>\n",
              "      <th></th>\n",
              "      <th></th>\n",
              "      <th></th>\n",
              "      <th></th>\n",
              "      <th></th>\n",
              "      <th></th>\n",
              "      <th></th>\n",
              "      <th></th>\n",
              "      <th></th>\n",
              "      <th></th>\n",
              "      <th></th>\n",
              "      <th></th>\n",
              "      <th></th>\n",
              "      <th></th>\n",
              "      <th></th>\n",
              "      <th></th>\n",
              "      <th></th>\n",
              "      <th></th>\n",
              "      <th></th>\n",
              "      <th></th>\n",
              "      <th></th>\n",
              "    </tr>\n",
              "  </thead>\n",
              "  <tbody>\n",
              "    <tr>\n",
              "      <th>1997</th>\n",
              "      <td>27</td>\n",
              "      <td>25</td>\n",
              "      <td>26</td>\n",
              "      <td>0</td>\n",
              "      <td>26</td>\n",
              "      <td>25</td>\n",
              "      <td>19</td>\n",
              "      <td>15</td>\n",
              "      <td>14</td>\n",
              "      <td>14</td>\n",
              "      <td>...</td>\n",
              "      <td>11</td>\n",
              "      <td>0</td>\n",
              "      <td>0</td>\n",
              "      <td>5</td>\n",
              "      <td>0</td>\n",
              "      <td>8</td>\n",
              "      <td>0</td>\n",
              "      <td>13</td>\n",
              "      <td>4</td>\n",
              "      <td>8899</td>\n",
              "    </tr>\n",
              "    <tr>\n",
              "      <th>1998</th>\n",
              "      <td>26</td>\n",
              "      <td>27</td>\n",
              "      <td>30</td>\n",
              "      <td>0</td>\n",
              "      <td>28</td>\n",
              "      <td>28</td>\n",
              "      <td>32</td>\n",
              "      <td>15</td>\n",
              "      <td>30</td>\n",
              "      <td>27</td>\n",
              "      <td>...</td>\n",
              "      <td>15</td>\n",
              "      <td>0</td>\n",
              "      <td>21</td>\n",
              "      <td>3</td>\n",
              "      <td>0</td>\n",
              "      <td>19</td>\n",
              "      <td>4</td>\n",
              "      <td>27</td>\n",
              "      <td>3</td>\n",
              "      <td>11533</td>\n",
              "    </tr>\n",
              "    <tr>\n",
              "      <th>1999</th>\n",
              "      <td>27</td>\n",
              "      <td>27</td>\n",
              "      <td>28</td>\n",
              "      <td>0</td>\n",
              "      <td>26</td>\n",
              "      <td>26</td>\n",
              "      <td>32</td>\n",
              "      <td>11</td>\n",
              "      <td>32</td>\n",
              "      <td>22</td>\n",
              "      <td>...</td>\n",
              "      <td>11</td>\n",
              "      <td>0</td>\n",
              "      <td>8</td>\n",
              "      <td>21</td>\n",
              "      <td>0</td>\n",
              "      <td>19</td>\n",
              "      <td>9</td>\n",
              "      <td>27</td>\n",
              "      <td>19</td>\n",
              "      <td>12515</td>\n",
              "    </tr>\n",
              "    <tr>\n",
              "      <th>2000</th>\n",
              "      <td>25</td>\n",
              "      <td>24</td>\n",
              "      <td>44</td>\n",
              "      <td>0</td>\n",
              "      <td>24</td>\n",
              "      <td>24</td>\n",
              "      <td>30</td>\n",
              "      <td>14</td>\n",
              "      <td>29</td>\n",
              "      <td>22</td>\n",
              "      <td>...</td>\n",
              "      <td>11</td>\n",
              "      <td>0</td>\n",
              "      <td>8</td>\n",
              "      <td>28</td>\n",
              "      <td>0</td>\n",
              "      <td>23</td>\n",
              "      <td>10</td>\n",
              "      <td>28</td>\n",
              "      <td>25</td>\n",
              "      <td>13658</td>\n",
              "    </tr>\n",
              "    <tr>\n",
              "      <th>2001</th>\n",
              "      <td>27</td>\n",
              "      <td>25</td>\n",
              "      <td>42</td>\n",
              "      <td>0</td>\n",
              "      <td>24</td>\n",
              "      <td>24</td>\n",
              "      <td>32</td>\n",
              "      <td>19</td>\n",
              "      <td>32</td>\n",
              "      <td>21</td>\n",
              "      <td>...</td>\n",
              "      <td>11</td>\n",
              "      <td>0</td>\n",
              "      <td>8</td>\n",
              "      <td>27</td>\n",
              "      <td>0</td>\n",
              "      <td>20</td>\n",
              "      <td>7</td>\n",
              "      <td>26</td>\n",
              "      <td>23</td>\n",
              "      <td>13361</td>\n",
              "    </tr>\n",
              "    <tr>\n",
              "      <th>2002</th>\n",
              "      <td>25</td>\n",
              "      <td>23</td>\n",
              "      <td>58</td>\n",
              "      <td>0</td>\n",
              "      <td>25</td>\n",
              "      <td>24</td>\n",
              "      <td>31</td>\n",
              "      <td>18</td>\n",
              "      <td>34</td>\n",
              "      <td>20</td>\n",
              "      <td>...</td>\n",
              "      <td>11</td>\n",
              "      <td>5</td>\n",
              "      <td>10</td>\n",
              "      <td>25</td>\n",
              "      <td>0</td>\n",
              "      <td>22</td>\n",
              "      <td>8</td>\n",
              "      <td>24</td>\n",
              "      <td>24</td>\n",
              "      <td>16671</td>\n",
              "    </tr>\n",
              "    <tr>\n",
              "      <th>2003</th>\n",
              "      <td>27</td>\n",
              "      <td>24</td>\n",
              "      <td>57</td>\n",
              "      <td>0</td>\n",
              "      <td>25</td>\n",
              "      <td>20</td>\n",
              "      <td>36</td>\n",
              "      <td>17</td>\n",
              "      <td>37</td>\n",
              "      <td>26</td>\n",
              "      <td>...</td>\n",
              "      <td>11</td>\n",
              "      <td>6</td>\n",
              "      <td>8</td>\n",
              "      <td>28</td>\n",
              "      <td>0</td>\n",
              "      <td>24</td>\n",
              "      <td>10</td>\n",
              "      <td>29</td>\n",
              "      <td>27</td>\n",
              "      <td>17287</td>\n",
              "    </tr>\n",
              "    <tr>\n",
              "      <th>2004</th>\n",
              "      <td>25</td>\n",
              "      <td>23</td>\n",
              "      <td>43</td>\n",
              "      <td>0</td>\n",
              "      <td>21</td>\n",
              "      <td>19</td>\n",
              "      <td>32</td>\n",
              "      <td>10</td>\n",
              "      <td>29</td>\n",
              "      <td>22</td>\n",
              "      <td>...</td>\n",
              "      <td>9</td>\n",
              "      <td>7</td>\n",
              "      <td>21</td>\n",
              "      <td>27</td>\n",
              "      <td>0</td>\n",
              "      <td>20</td>\n",
              "      <td>7</td>\n",
              "      <td>22</td>\n",
              "      <td>24</td>\n",
              "      <td>14117</td>\n",
              "    </tr>\n",
              "    <tr>\n",
              "      <th>2005</th>\n",
              "      <td>27</td>\n",
              "      <td>28</td>\n",
              "      <td>40</td>\n",
              "      <td>0</td>\n",
              "      <td>19</td>\n",
              "      <td>23</td>\n",
              "      <td>23</td>\n",
              "      <td>16</td>\n",
              "      <td>29</td>\n",
              "      <td>18</td>\n",
              "      <td>...</td>\n",
              "      <td>9</td>\n",
              "      <td>6</td>\n",
              "      <td>21</td>\n",
              "      <td>23</td>\n",
              "      <td>0</td>\n",
              "      <td>20</td>\n",
              "      <td>7</td>\n",
              "      <td>18</td>\n",
              "      <td>21</td>\n",
              "      <td>13799</td>\n",
              "    </tr>\n",
              "    <tr>\n",
              "      <th>2006</th>\n",
              "      <td>26</td>\n",
              "      <td>24</td>\n",
              "      <td>41</td>\n",
              "      <td>0</td>\n",
              "      <td>26</td>\n",
              "      <td>22</td>\n",
              "      <td>26</td>\n",
              "      <td>12</td>\n",
              "      <td>27</td>\n",
              "      <td>21</td>\n",
              "      <td>...</td>\n",
              "      <td>10</td>\n",
              "      <td>11</td>\n",
              "      <td>21</td>\n",
              "      <td>25</td>\n",
              "      <td>0</td>\n",
              "      <td>21</td>\n",
              "      <td>2</td>\n",
              "      <td>20</td>\n",
              "      <td>22</td>\n",
              "      <td>14328</td>\n",
              "    </tr>\n",
              "    <tr>\n",
              "      <th>2007</th>\n",
              "      <td>29</td>\n",
              "      <td>28</td>\n",
              "      <td>22</td>\n",
              "      <td>0</td>\n",
              "      <td>27</td>\n",
              "      <td>26</td>\n",
              "      <td>27</td>\n",
              "      <td>10</td>\n",
              "      <td>28</td>\n",
              "      <td>22</td>\n",
              "      <td>...</td>\n",
              "      <td>10</td>\n",
              "      <td>10</td>\n",
              "      <td>21</td>\n",
              "      <td>26</td>\n",
              "      <td>0</td>\n",
              "      <td>22</td>\n",
              "      <td>7</td>\n",
              "      <td>17</td>\n",
              "      <td>22</td>\n",
              "      <td>14526</td>\n",
              "    </tr>\n",
              "    <tr>\n",
              "      <th>2008</th>\n",
              "      <td>27</td>\n",
              "      <td>26</td>\n",
              "      <td>30</td>\n",
              "      <td>0</td>\n",
              "      <td>29</td>\n",
              "      <td>23</td>\n",
              "      <td>26</td>\n",
              "      <td>11</td>\n",
              "      <td>29</td>\n",
              "      <td>20</td>\n",
              "      <td>...</td>\n",
              "      <td>10</td>\n",
              "      <td>0</td>\n",
              "      <td>21</td>\n",
              "      <td>28</td>\n",
              "      <td>0</td>\n",
              "      <td>23</td>\n",
              "      <td>8</td>\n",
              "      <td>17</td>\n",
              "      <td>28</td>\n",
              "      <td>14550</td>\n",
              "    </tr>\n",
              "    <tr>\n",
              "      <th>2009</th>\n",
              "      <td>24</td>\n",
              "      <td>21</td>\n",
              "      <td>35</td>\n",
              "      <td>0</td>\n",
              "      <td>30</td>\n",
              "      <td>20</td>\n",
              "      <td>24</td>\n",
              "      <td>11</td>\n",
              "      <td>29</td>\n",
              "      <td>19</td>\n",
              "      <td>...</td>\n",
              "      <td>10</td>\n",
              "      <td>0</td>\n",
              "      <td>21</td>\n",
              "      <td>30</td>\n",
              "      <td>0</td>\n",
              "      <td>19</td>\n",
              "      <td>8</td>\n",
              "      <td>15</td>\n",
              "      <td>26</td>\n",
              "      <td>14116</td>\n",
              "    </tr>\n",
              "    <tr>\n",
              "      <th>2010</th>\n",
              "      <td>24</td>\n",
              "      <td>23</td>\n",
              "      <td>38</td>\n",
              "      <td>0</td>\n",
              "      <td>25</td>\n",
              "      <td>26</td>\n",
              "      <td>22</td>\n",
              "      <td>0</td>\n",
              "      <td>30</td>\n",
              "      <td>18</td>\n",
              "      <td>...</td>\n",
              "      <td>10</td>\n",
              "      <td>6</td>\n",
              "      <td>21</td>\n",
              "      <td>29</td>\n",
              "      <td>45</td>\n",
              "      <td>22</td>\n",
              "      <td>8</td>\n",
              "      <td>14</td>\n",
              "      <td>25</td>\n",
              "      <td>14065</td>\n",
              "    </tr>\n",
              "    <tr>\n",
              "      <th>2011</th>\n",
              "      <td>23</td>\n",
              "      <td>20</td>\n",
              "      <td>36</td>\n",
              "      <td>0</td>\n",
              "      <td>30</td>\n",
              "      <td>22</td>\n",
              "      <td>27</td>\n",
              "      <td>0</td>\n",
              "      <td>0</td>\n",
              "      <td>19</td>\n",
              "      <td>...</td>\n",
              "      <td>10</td>\n",
              "      <td>0</td>\n",
              "      <td>21</td>\n",
              "      <td>31</td>\n",
              "      <td>48</td>\n",
              "      <td>23</td>\n",
              "      <td>8</td>\n",
              "      <td>16</td>\n",
              "      <td>28</td>\n",
              "      <td>14071</td>\n",
              "    </tr>\n",
              "    <tr>\n",
              "      <th>2012</th>\n",
              "      <td>23</td>\n",
              "      <td>21</td>\n",
              "      <td>0</td>\n",
              "      <td>0</td>\n",
              "      <td>29</td>\n",
              "      <td>20</td>\n",
              "      <td>26</td>\n",
              "      <td>0</td>\n",
              "      <td>0</td>\n",
              "      <td>16</td>\n",
              "      <td>...</td>\n",
              "      <td>9</td>\n",
              "      <td>0</td>\n",
              "      <td>21</td>\n",
              "      <td>31</td>\n",
              "      <td>40</td>\n",
              "      <td>21</td>\n",
              "      <td>9</td>\n",
              "      <td>17</td>\n",
              "      <td>28</td>\n",
              "      <td>13410</td>\n",
              "    </tr>\n",
              "    <tr>\n",
              "      <th>2013</th>\n",
              "      <td>23</td>\n",
              "      <td>21</td>\n",
              "      <td>38</td>\n",
              "      <td>28</td>\n",
              "      <td>27</td>\n",
              "      <td>0</td>\n",
              "      <td>26</td>\n",
              "      <td>0</td>\n",
              "      <td>0</td>\n",
              "      <td>15</td>\n",
              "      <td>...</td>\n",
              "      <td>9</td>\n",
              "      <td>0</td>\n",
              "      <td>20</td>\n",
              "      <td>34</td>\n",
              "      <td>39</td>\n",
              "      <td>0</td>\n",
              "      <td>7</td>\n",
              "      <td>14</td>\n",
              "      <td>31</td>\n",
              "      <td>13650</td>\n",
              "    </tr>\n",
              "    <tr>\n",
              "      <th>2014</th>\n",
              "      <td>25</td>\n",
              "      <td>21</td>\n",
              "      <td>42</td>\n",
              "      <td>0</td>\n",
              "      <td>27</td>\n",
              "      <td>0</td>\n",
              "      <td>24</td>\n",
              "      <td>0</td>\n",
              "      <td>0</td>\n",
              "      <td>13</td>\n",
              "      <td>...</td>\n",
              "      <td>9</td>\n",
              "      <td>0</td>\n",
              "      <td>19</td>\n",
              "      <td>34</td>\n",
              "      <td>40</td>\n",
              "      <td>0</td>\n",
              "      <td>7</td>\n",
              "      <td>13</td>\n",
              "      <td>31</td>\n",
              "      <td>10973</td>\n",
              "    </tr>\n",
              "    <tr>\n",
              "      <th>2015</th>\n",
              "      <td>0</td>\n",
              "      <td>0</td>\n",
              "      <td>0</td>\n",
              "      <td>0</td>\n",
              "      <td>0</td>\n",
              "      <td>0</td>\n",
              "      <td>0</td>\n",
              "      <td>0</td>\n",
              "      <td>0</td>\n",
              "      <td>0</td>\n",
              "      <td>...</td>\n",
              "      <td>0</td>\n",
              "      <td>0</td>\n",
              "      <td>0</td>\n",
              "      <td>0</td>\n",
              "      <td>0</td>\n",
              "      <td>0</td>\n",
              "      <td>0</td>\n",
              "      <td>0</td>\n",
              "      <td>0</td>\n",
              "      <td>562</td>\n",
              "    </tr>\n",
              "    <tr>\n",
              "      <th>All</th>\n",
              "      <td>460</td>\n",
              "      <td>431</td>\n",
              "      <td>650</td>\n",
              "      <td>28</td>\n",
              "      <td>468</td>\n",
              "      <td>372</td>\n",
              "      <td>495</td>\n",
              "      <td>179</td>\n",
              "      <td>409</td>\n",
              "      <td>355</td>\n",
              "      <td>...</td>\n",
              "      <td>186</td>\n",
              "      <td>51</td>\n",
              "      <td>291</td>\n",
              "      <td>455</td>\n",
              "      <td>212</td>\n",
              "      <td>326</td>\n",
              "      <td>126</td>\n",
              "      <td>357</td>\n",
              "      <td>411</td>\n",
              "      <td>246091</td>\n",
              "    </tr>\n",
              "  </tbody>\n",
              "</table>\n",
              "<p>20 rows × 647 columns</p>\n",
              "</div>\n",
              "      <button class=\"colab-df-convert\" onclick=\"convertToInteractive('df-eb9ce882-5e16-4c9a-9c56-0b076f08400c')\"\n",
              "              title=\"Convert this dataframe to an interactive table.\"\n",
              "              style=\"display:none;\">\n",
              "        \n",
              "  <svg xmlns=\"http://www.w3.org/2000/svg\" height=\"24px\"viewBox=\"0 0 24 24\"\n",
              "       width=\"24px\">\n",
              "    <path d=\"M0 0h24v24H0V0z\" fill=\"none\"/>\n",
              "    <path d=\"M18.56 5.44l.94 2.06.94-2.06 2.06-.94-2.06-.94-.94-2.06-.94 2.06-2.06.94zm-11 1L8.5 8.5l.94-2.06 2.06-.94-2.06-.94L8.5 2.5l-.94 2.06-2.06.94zm10 10l.94 2.06.94-2.06 2.06-.94-2.06-.94-.94-2.06-.94 2.06-2.06.94z\"/><path d=\"M17.41 7.96l-1.37-1.37c-.4-.4-.92-.59-1.43-.59-.52 0-1.04.2-1.43.59L10.3 9.45l-7.72 7.72c-.78.78-.78 2.05 0 2.83L4 21.41c.39.39.9.59 1.41.59.51 0 1.02-.2 1.41-.59l7.78-7.78 2.81-2.81c.8-.78.8-2.07 0-2.86zM5.41 20L4 18.59l7.72-7.72 1.47 1.35L5.41 20z\"/>\n",
              "  </svg>\n",
              "      </button>\n",
              "      \n",
              "  <style>\n",
              "    .colab-df-container {\n",
              "      display:flex;\n",
              "      flex-wrap:wrap;\n",
              "      gap: 12px;\n",
              "    }\n",
              "\n",
              "    .colab-df-convert {\n",
              "      background-color: #E8F0FE;\n",
              "      border: none;\n",
              "      border-radius: 50%;\n",
              "      cursor: pointer;\n",
              "      display: none;\n",
              "      fill: #1967D2;\n",
              "      height: 32px;\n",
              "      padding: 0 0 0 0;\n",
              "      width: 32px;\n",
              "    }\n",
              "\n",
              "    .colab-df-convert:hover {\n",
              "      background-color: #E2EBFA;\n",
              "      box-shadow: 0px 1px 2px rgba(60, 64, 67, 0.3), 0px 1px 3px 1px rgba(60, 64, 67, 0.15);\n",
              "      fill: #174EA6;\n",
              "    }\n",
              "\n",
              "    [theme=dark] .colab-df-convert {\n",
              "      background-color: #3B4455;\n",
              "      fill: #D2E3FC;\n",
              "    }\n",
              "\n",
              "    [theme=dark] .colab-df-convert:hover {\n",
              "      background-color: #434B5C;\n",
              "      box-shadow: 0px 1px 3px 1px rgba(0, 0, 0, 0.15);\n",
              "      filter: drop-shadow(0px 1px 2px rgba(0, 0, 0, 0.3));\n",
              "      fill: #FFFFFF;\n",
              "    }\n",
              "  </style>\n",
              "\n",
              "      <script>\n",
              "        const buttonEl =\n",
              "          document.querySelector('#df-eb9ce882-5e16-4c9a-9c56-0b076f08400c button.colab-df-convert');\n",
              "        buttonEl.style.display =\n",
              "          google.colab.kernel.accessAllowed ? 'block' : 'none';\n",
              "\n",
              "        async function convertToInteractive(key) {\n",
              "          const element = document.querySelector('#df-eb9ce882-5e16-4c9a-9c56-0b076f08400c');\n",
              "          const dataTable =\n",
              "            await google.colab.kernel.invokeFunction('convertToInteractive',\n",
              "                                                     [key], {});\n",
              "          if (!dataTable) return;\n",
              "\n",
              "          const docLinkHtml = 'Like what you see? Visit the ' +\n",
              "            '<a target=\"_blank\" href=https://colab.research.google.com/notebooks/data_table.ipynb>data table notebook</a>'\n",
              "            + ' to learn more about interactive tables.';\n",
              "          element.innerHTML = '';\n",
              "          dataTable['output_type'] = 'display_data';\n",
              "          await google.colab.output.renderOutput(dataTable, element);\n",
              "          const docLink = document.createElement('div');\n",
              "          docLink.innerHTML = docLinkHtml;\n",
              "          element.appendChild(docLink);\n",
              "        }\n",
              "      </script>\n",
              "    </div>\n",
              "  </div>\n",
              "  "
            ]
          },
          "metadata": {},
          "execution_count": 33
        }
      ]
    },
    {
      "cell_type": "code",
      "source": [
        ""
      ],
      "metadata": {
        "colab": {
          "base_uri": "https://localhost:8080/",
          "height": 522
        },
        "id": "E6VSh_FULPWs",
        "outputId": "27cc15d1-9cca-4f9b-9e76-f8f7f6665456"
      },
      "execution_count": 34,
      "outputs": [
        {
          "output_type": "error",
          "ename": "KeyError",
          "evalue": "ignored",
          "traceback": [
            "\u001b[0;31m---------------------------------------------------------------------------\u001b[0m",
            "\u001b[0;31mKeyError\u001b[0m                                  Traceback (most recent call last)",
            "\u001b[0;32m/usr/local/lib/python3.7/dist-packages/pandas/core/indexes/base.py\u001b[0m in \u001b[0;36mget_loc\u001b[0;34m(self, key, method, tolerance)\u001b[0m\n\u001b[1;32m   3360\u001b[0m             \u001b[0;32mtry\u001b[0m\u001b[0;34m:\u001b[0m\u001b[0;34m\u001b[0m\u001b[0;34m\u001b[0m\u001b[0m\n\u001b[0;32m-> 3361\u001b[0;31m                 \u001b[0;32mreturn\u001b[0m \u001b[0mself\u001b[0m\u001b[0;34m.\u001b[0m\u001b[0m_engine\u001b[0m\u001b[0;34m.\u001b[0m\u001b[0mget_loc\u001b[0m\u001b[0;34m(\u001b[0m\u001b[0mcasted_key\u001b[0m\u001b[0;34m)\u001b[0m\u001b[0;34m\u001b[0m\u001b[0;34m\u001b[0m\u001b[0m\n\u001b[0m\u001b[1;32m   3362\u001b[0m             \u001b[0;32mexcept\u001b[0m \u001b[0mKeyError\u001b[0m \u001b[0;32mas\u001b[0m \u001b[0merr\u001b[0m\u001b[0;34m:\u001b[0m\u001b[0;34m\u001b[0m\u001b[0;34m\u001b[0m\u001b[0m\n",
            "\u001b[0;32m/usr/local/lib/python3.7/dist-packages/pandas/_libs/index.pyx\u001b[0m in \u001b[0;36mpandas._libs.index.IndexEngine.get_loc\u001b[0;34m()\u001b[0m\n",
            "\u001b[0;32m/usr/local/lib/python3.7/dist-packages/pandas/_libs/index.pyx\u001b[0m in \u001b[0;36mpandas._libs.index.IndexEngine.get_loc\u001b[0;34m()\u001b[0m\n",
            "\u001b[0;32mpandas/_libs/hashtable_class_helper.pxi\u001b[0m in \u001b[0;36mpandas._libs.hashtable.PyObjectHashTable.get_item\u001b[0;34m()\u001b[0m\n",
            "\u001b[0;32mpandas/_libs/hashtable_class_helper.pxi\u001b[0m in \u001b[0;36mpandas._libs.hashtable.PyObjectHashTable.get_item\u001b[0;34m()\u001b[0m\n",
            "\u001b[0;31mKeyError\u001b[0m: 1",
            "\nThe above exception was the direct cause of the following exception:\n",
            "\u001b[0;31mKeyError\u001b[0m                                  Traceback (most recent call last)",
            "\u001b[0;32m<ipython-input-34-b4ee9169200b>\u001b[0m in \u001b[0;36m<module>\u001b[0;34m()\u001b[0m\n\u001b[0;32m----> 1\u001b[0;31m \u001b[0mratio\u001b[0m \u001b[0;34m=\u001b[0m \u001b[0mpivot\u001b[0m\u001b[0;34m[\u001b[0m\u001b[0;36m1\u001b[0m\u001b[0;34m]\u001b[0m\u001b[0;34m/\u001b[0m\u001b[0mpivot\u001b[0m\u001b[0;34m[\u001b[0m\u001b[0;34m'All'\u001b[0m\u001b[0;34m]\u001b[0m\u001b[0;34m\u001b[0m\u001b[0;34m\u001b[0m\u001b[0m\n\u001b[0m\u001b[1;32m      2\u001b[0m \u001b[0mratio\u001b[0m\u001b[0;34m\u001b[0m\u001b[0;34m\u001b[0m\u001b[0m\n",
            "\u001b[0;32m/usr/local/lib/python3.7/dist-packages/pandas/core/frame.py\u001b[0m in \u001b[0;36m__getitem__\u001b[0;34m(self, key)\u001b[0m\n\u001b[1;32m   3456\u001b[0m             \u001b[0;32mif\u001b[0m \u001b[0mself\u001b[0m\u001b[0;34m.\u001b[0m\u001b[0mcolumns\u001b[0m\u001b[0;34m.\u001b[0m\u001b[0mnlevels\u001b[0m \u001b[0;34m>\u001b[0m \u001b[0;36m1\u001b[0m\u001b[0;34m:\u001b[0m\u001b[0;34m\u001b[0m\u001b[0;34m\u001b[0m\u001b[0m\n\u001b[1;32m   3457\u001b[0m                 \u001b[0;32mreturn\u001b[0m \u001b[0mself\u001b[0m\u001b[0;34m.\u001b[0m\u001b[0m_getitem_multilevel\u001b[0m\u001b[0;34m(\u001b[0m\u001b[0mkey\u001b[0m\u001b[0;34m)\u001b[0m\u001b[0;34m\u001b[0m\u001b[0;34m\u001b[0m\u001b[0m\n\u001b[0;32m-> 3458\u001b[0;31m             \u001b[0mindexer\u001b[0m \u001b[0;34m=\u001b[0m \u001b[0mself\u001b[0m\u001b[0;34m.\u001b[0m\u001b[0mcolumns\u001b[0m\u001b[0;34m.\u001b[0m\u001b[0mget_loc\u001b[0m\u001b[0;34m(\u001b[0m\u001b[0mkey\u001b[0m\u001b[0;34m)\u001b[0m\u001b[0;34m\u001b[0m\u001b[0;34m\u001b[0m\u001b[0m\n\u001b[0m\u001b[1;32m   3459\u001b[0m             \u001b[0;32mif\u001b[0m \u001b[0mis_integer\u001b[0m\u001b[0;34m(\u001b[0m\u001b[0mindexer\u001b[0m\u001b[0;34m)\u001b[0m\u001b[0;34m:\u001b[0m\u001b[0;34m\u001b[0m\u001b[0;34m\u001b[0m\u001b[0m\n\u001b[1;32m   3460\u001b[0m                 \u001b[0mindexer\u001b[0m \u001b[0;34m=\u001b[0m \u001b[0;34m[\u001b[0m\u001b[0mindexer\u001b[0m\u001b[0;34m]\u001b[0m\u001b[0;34m\u001b[0m\u001b[0;34m\u001b[0m\u001b[0m\n",
            "\u001b[0;32m/usr/local/lib/python3.7/dist-packages/pandas/core/indexes/base.py\u001b[0m in \u001b[0;36mget_loc\u001b[0;34m(self, key, method, tolerance)\u001b[0m\n\u001b[1;32m   3361\u001b[0m                 \u001b[0;32mreturn\u001b[0m \u001b[0mself\u001b[0m\u001b[0;34m.\u001b[0m\u001b[0m_engine\u001b[0m\u001b[0;34m.\u001b[0m\u001b[0mget_loc\u001b[0m\u001b[0;34m(\u001b[0m\u001b[0mcasted_key\u001b[0m\u001b[0;34m)\u001b[0m\u001b[0;34m\u001b[0m\u001b[0;34m\u001b[0m\u001b[0m\n\u001b[1;32m   3362\u001b[0m             \u001b[0;32mexcept\u001b[0m \u001b[0mKeyError\u001b[0m \u001b[0;32mas\u001b[0m \u001b[0merr\u001b[0m\u001b[0;34m:\u001b[0m\u001b[0;34m\u001b[0m\u001b[0;34m\u001b[0m\u001b[0m\n\u001b[0;32m-> 3363\u001b[0;31m                 \u001b[0;32mraise\u001b[0m \u001b[0mKeyError\u001b[0m\u001b[0;34m(\u001b[0m\u001b[0mkey\u001b[0m\u001b[0;34m)\u001b[0m \u001b[0;32mfrom\u001b[0m \u001b[0merr\u001b[0m\u001b[0;34m\u001b[0m\u001b[0;34m\u001b[0m\u001b[0m\n\u001b[0m\u001b[1;32m   3364\u001b[0m \u001b[0;34m\u001b[0m\u001b[0m\n\u001b[1;32m   3365\u001b[0m         \u001b[0;32mif\u001b[0m \u001b[0mis_scalar\u001b[0m\u001b[0;34m(\u001b[0m\u001b[0mkey\u001b[0m\u001b[0;34m)\u001b[0m \u001b[0;32mand\u001b[0m \u001b[0misna\u001b[0m\u001b[0;34m(\u001b[0m\u001b[0mkey\u001b[0m\u001b[0;34m)\u001b[0m \u001b[0;32mand\u001b[0m \u001b[0;32mnot\u001b[0m \u001b[0mself\u001b[0m\u001b[0;34m.\u001b[0m\u001b[0mhasnans\u001b[0m\u001b[0;34m:\u001b[0m\u001b[0;34m\u001b[0m\u001b[0;34m\u001b[0m\u001b[0m\n",
            "\u001b[0;31mKeyError\u001b[0m: 1"
          ]
        }
      ]
    }
  ]
}